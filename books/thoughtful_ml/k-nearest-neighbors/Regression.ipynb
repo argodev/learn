{
 "cells": [
  {
   "cell_type": "code",
   "execution_count": 1,
   "metadata": {},
   "outputs": [],
   "source": [
    "%matplotlib inline\n",
    "\n",
    "import random\n",
    "import sys\n",
    "\n",
    "import matplotlib.pyplot as plt\n",
    "import pandas as pd\n",
    "import numpy as np\n",
    "from scipy.spatial import KDTree\n",
    "from sklearn.metrics import mean_absolute_error\n",
    "\n",
    "\n",
    "sys.setrecursionlimit(10000)"
   ]
  },
  {
   "cell_type": "code",
   "execution_count": 2,
   "metadata": {},
   "outputs": [],
   "source": [
    "class Regression(object):\n",
    "    \"\"\"\n",
    "    Performs kNN regression\n",
    "    \"\"\"\n",
    "    \n",
    "    def __init__(self):\n",
    "        self.k = 5\n",
    "        self.metric = np.mean\n",
    "        self.kdtree = None\n",
    "        self.houses = None\n",
    "        self.values = None\n",
    "        \n",
    "    def set_data(self, houses, values):\n",
    "        \"\"\"\n",
    "        Sets houses and values data\n",
    "        :param houses: pandas.DataFrame with houses parameters\n",
    "        :param values: pandas.Series with houses values\n",
    "        \"\"\"\n",
    "        self.houses = houses\n",
    "        self.values = values\n",
    "        self.kdtree = KDTree(self.houses)\n",
    "        \n",
    "    def regress(self, query_point):\n",
    "        \"\"\"\n",
    "        Calculates predicted value for house with particular parameters\n",
    "        :param query_point: pandas.Series with house parameters\n",
    "        :return: house value\n",
    "        \"\"\"\n",
    "        _, indexes = self.kdtree.query(query_point, self.k)\n",
    "        value = self.metric(self.values.iloc[indexes])\n",
    "        if np.isnan(value):\n",
    "            raise Exception('Unexpected result')\n",
    "        else:\n",
    "            return value"
   ]
  },
  {
   "cell_type": "code",
   "execution_count": 11,
   "metadata": {},
   "outputs": [],
   "source": [
    "class RegressionTest(object):\n",
    "    \"\"\"\n",
    "    Take in King County housing data, calculate and plot the kNN regression error rate\n",
    "    \"\"\"\n",
    "    \n",
    "    def __init__(self):\n",
    "        self.houses = None\n",
    "        self.values = None\n",
    "        \n",
    "    def load_csv_file(self, csv_file, limit=None):\n",
    "        \"\"\"\n",
    "        Loads CSV file with houses data\n",
    "        :param csv_file: CSV file name\n",
    "        :param limit: number of rows of file to read\n",
    "        \"\"\"\n",
    "        houses = pd.read_csv(csv_file, nrows=limit)\n",
    "        self.values = houses['AppraisedValue']\n",
    "        houses = houses.drop('AppraisedValue', 1)\n",
    "        houses = (houses - houses.mean()) / (houses.max() - houses.min())\n",
    "        self.houses = houses\n",
    "        self.houses = self.houses[['lat', 'long', 'SqFtLot']]\n",
    "        \n",
    "    def plot_error_rates(self):\n",
    "        \"\"\"\n",
    "        Plots MAE vs #folds\n",
    "        \"\"\"\n",
    "        folds_range = range(2, 11)\n",
    "        errors_df = pd.DataFrame({'max': 0, 'min': 0}, index=folds_range)\n",
    "        for folds in folds_range:\n",
    "            errors = self.tests(folds)\n",
    "            errors_df['max'][folds] = max(errors)\n",
    "            errors_df['min'][folds] = min(errors)\n",
    "        errors_df.plot(title='Mean Absolute Error of KNN over different folds_range')\n",
    "        plt.xlabel('#folds_range')\n",
    "        plt.ylabel('MAE')\n",
    "        plt.show()\n",
    "        \n",
    "    def tests(self, folds):\n",
    "        \"\"\"\n",
    "        Calculates mean absolute errors for series of tests\n",
    "        :param folds: how many times split the data\n",
    "        :return: list of error values\n",
    "        \"\"\"\n",
    "        holdout = 1 / float(folds)\n",
    "        errors = []\n",
    "        for _ in range(folds):\n",
    "            values_regress, values_actual = self.test_regression(holdout)\n",
    "            errors.append(mean_absolute_error(values_actual, values_regress))\n",
    "            \n",
    "        return errors\n",
    "    \n",
    "    def test_regression(self, holdout):\n",
    "        \"\"\"\n",
    "        Calculates regression for out-of-sample data\n",
    "        :param holdout: part of the data for testing [0,1]\n",
    "        :return: tuple(y_regression, values_actual)\n",
    "        \"\"\"\n",
    "        test_rows = random.sample(self.houses.index.tolist(), int(round(len(self.houses) * holdout)))\n",
    "        train_rows = set(range(len(self.houses))) - set(test_rows)\n",
    "        df_test = self.houses.iloc[test_rows]\n",
    "        df_train = self.houses.drop(test_rows)\n",
    "        \n",
    "        train_values = self.values.loc[train_rows]\n",
    "        regression = Regression()\n",
    "        regression.set_data(houses=df_train, values=train_values)\n",
    "        \n",
    "        values_regr = []\n",
    "        values_actual = []\n",
    "        \n",
    "        for idx, row in df_test.iterrows():\n",
    "            values_regr.append(regression.regress(row))\n",
    "            values_actual.append(self.values[idx])\n",
    "            \n",
    "        return values_regr, values_actual"
   ]
  },
  {
   "cell_type": "code",
   "execution_count": 14,
   "metadata": {},
   "outputs": [
    {
     "data": {
      "image/png": "[encoded data removed]",
      "text/plain": [
       "<Figure size 432x288 with 1 Axes>"
      ]
     },
     "metadata": {
      "needs_background": "light"
     },
     "output_type": "display_data"
    }
   ],
   "source": [
    "regression_test = RegressionTest()\n",
    "regression_test.load_csv_file('data/king_county_data_geocoded.csv') #, 100)\n",
    "regression_test.plot_error_rates() "
   ]
  },
  {
   "cell_type": "code",
   "execution_count": null,
   "metadata": {},
   "outputs": [],
   "source": []
  }
 ],
 "metadata": {
  "kernelspec": {
   "display_name": "Python 3",
   "language": "python",
   "name": "python3"
  },
  "language_info": {
   "codemirror_mode": {
    "name": "ipython",
    "version": 3
   },
   "file_extension": ".py",
   "mimetype": "text/x-python",
   "name": "python",
   "nbconvert_exporter": "python",
   "pygments_lexer": "ipython3",
   "version": "3.6.5"
  }
 },
 "nbformat": 4,
 "nbformat_minor": 2
}
