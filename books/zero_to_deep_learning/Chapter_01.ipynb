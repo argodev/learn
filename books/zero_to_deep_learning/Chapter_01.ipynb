{
 "cells": [
  {
   "cell_type": "code",
   "execution_count": 1,
   "metadata": {},
   "outputs": [
    {
     "name": "stdout",
     "output_type": "stream",
     "text": [
      "Congrats! You are running the correct environment\n"
     ]
    }
   ],
   "source": [
    "import os\n",
    "import sys\n",
    "\n",
    "env_name='z2dl'\n",
    "\n",
    "p = sys.executable\n",
    "\n",
    "try:\n",
    "    assert(p.find(env_name) != -1)\n",
    "    print(\"Congrats! You are running the correct environment\")\n",
    "except Exception as ex:\n",
    "    print(\"It seems you are not using the correct environment.\\n\", \n",
    "          \"Currently running python from this path:\\n\",\n",
    "          p,\n",
    "          \"\\n\",\n",
    "          \"Please follow the instructions above and retry.\")\n",
    "    raise ex\n",
    "    "
   ]
  },
  {
   "cell_type": "code",
   "execution_count": 2,
   "metadata": {},
   "outputs": [
    {
     "name": "stdout",
     "output_type": "stream",
     "text": [
      "Congrats! You are using the jupyter from within the enviornment\n"
     ]
    }
   ],
   "source": [
    "import jupyter\n",
    "j = jupyter.__file__\n",
    "\n",
    "try:\n",
    "    assert(j.find('jupyter') != -1)\n",
    "    assert(j.find(env_name) != -1)\n",
    "    print(\"Congrats! You are using the jupyter from within the enviornment\")\n",
    "except Exception as ex:\n",
    "    print(\"It seems you are not using the correct version of jupyter.\\n\",\n",
    "          \"Currently running python from this path:\\n\\n\",\n",
    "          j,\n",
    "          \"\\n\\n\",\n",
    "          \"Please follow the instructions above and make sure you are in the activated environment\")\n",
    "    raise ex\n"
   ]
  },
  {
   "cell_type": "code",
   "execution_count": 10,
   "metadata": {},
   "outputs": [
    {
     "name": "stdout",
     "output_type": "stream",
     "text": [
      "Houston we are go!\n"
     ]
    }
   ],
   "source": [
    "import pip\n",
    "import numpy\n",
    "import jupyter\n",
    "import matplotlib\n",
    "import sklearn\n",
    "import scipy\n",
    "import pandas\n",
    "import PIL\n",
    "import seaborn\n",
    "import h5py\n",
    "import tensorflow\n",
    "import keras\n",
    "import pytest\n",
    "\n",
    "assert(pip.__version__ == '9.0.1')\n",
    "assert(numpy.__version__ == '1.13.3')\n",
    "assert(matplotlib.__version__ == '2.1.1')\n",
    "assert(sklearn.__version__ == '0.19.1')\n",
    "assert(scipy.__version__ == '1.0.0')\n",
    "assert(pandas.__version__ == '0.21.1')\n",
    "assert(PIL.__version__ == '4.3.0')\n",
    "assert(seaborn.__version__ == '0.8.1')\n",
    "assert(h5py.__version__ == '2.7.1')\n",
    "assert(tensorflow.__version__ == '1.4.1')\n",
    "assert(keras.__version__ == '2.1.2')\n",
    "assert(pytest.__version__ == '3.3.1')\n",
    "\n",
    "print(\"Houston we are go!\")\n"
   ]
  },
  {
   "cell_type": "code",
   "execution_count": 17,
   "metadata": {},
   "outputs": [
    {
     "name": "stdout",
     "output_type": "stream",
     "text": [
      "<class 'numpy.ndarray'>\n",
      "[[8 5 6 1]\n",
      " [4 3 0 7]\n",
      " [1 3 2 9]]\n",
      "[[[1 2 3]\n",
      "  [4 3 6]]\n",
      "\n",
      " [[8 5 1]\n",
      "  [5 2 7]]\n",
      "\n",
      " [[0 4 5]\n",
      "  [8 9 1]]\n",
      "\n",
      " [[1 2 6]\n",
      "  [3 7 4]]]\n"
     ]
    }
   ],
   "source": [
    "# Example/Exercise 1\n",
    "import numpy as np\n",
    "\n",
    "a = np.array([1, 3, 2, 4])\n",
    "\n",
    "print(type(a))\n",
    "\n",
    "b = np.array([[8, 5, 6, 1],\n",
    "              [4, 3, 0, 7], \n",
    "              [1, 3, 2, 9]])\n",
    "\n",
    "c = np.array([[[1, 2, 3],\n",
    "               [4, 3, 6]],\n",
    "              [[8, 5, 1],\n",
    "               [5, 2, 7]],\n",
    "              [[0, 4, 5],\n",
    "               [8, 9, 1]],\n",
    "              [[1, 2, 6],\n",
    "               [3, 7, 4]]])\n",
    "\n",
    "print(b)\n",
    "\n",
    "print(c)\n"
   ]
  },
  {
   "cell_type": "code",
   "execution_count": 20,
   "metadata": {},
   "outputs": [
    {
     "data": {
      "text/plain": [
       "(4, 2, 3)"
      ]
     },
     "execution_count": 20,
     "metadata": {},
     "output_type": "execute_result"
    }
   ],
   "source": [
    "a.shape\n",
    "# use tab after the period to get intellisense\n",
    "# Documentation: method plus open parens e.g. print( shift+tab+tab\n",
    "b.shape\n",
    "c.shape"
   ]
  },
  {
   "cell_type": "code",
   "execution_count": 21,
   "metadata": {},
   "outputs": [
    {
     "data": {
      "text/plain": [
       "1"
      ]
     },
     "execution_count": 21,
     "metadata": {},
     "output_type": "execute_result"
    }
   ],
   "source": [
    "a[0]"
   ]
  },
  {
   "cell_type": "code",
   "execution_count": null,
   "metadata": {},
   "outputs": [],
   "source": []
  }
 ],
 "metadata": {
  "kernelspec": {
   "display_name": "Python 3",
   "language": "python",
   "name": "python3"
  },
  "language_info": {
   "codemirror_mode": {
    "name": "ipython",
    "version": 3
   },
   "file_extension": ".py",
   "mimetype": "text/x-python",
   "name": "python",
   "nbconvert_exporter": "python",
   "pygments_lexer": "ipython3",
   "version": "3.6.3"
  }
 },
 "nbformat": 4,
 "nbformat_minor": 2
}
