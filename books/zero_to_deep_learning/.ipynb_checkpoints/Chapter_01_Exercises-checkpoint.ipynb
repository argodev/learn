{
 "cells": [
  {
   "cell_type": "code",
   "execution_count": 1,
   "metadata": {},
   "outputs": [],
   "source": [
    "import numpy as np\n",
    "%matplotlib inline\n",
    "import matplotlib.pyplot as plt"
   ]
  },
  {
   "cell_type": "markdown",
   "metadata": {},
   "source": [
    "# Exercise 1"
   ]
  },
  {
   "cell_type": "code",
   "execution_count": 45,
   "metadata": {},
   "outputs": [],
   "source": [
    "# generate an array of zeros with shape=(10,10)\n",
    "a = np.zeros([10,10])"
   ]
  },
  {
   "cell_type": "code",
   "execution_count": 46,
   "metadata": {},
   "outputs": [
    {
     "data": {
      "text/plain": [
       "(10, 10)"
      ]
     },
     "execution_count": 46,
     "metadata": {},
     "output_type": "execute_result"
    }
   ],
   "source": [
    "a.shape"
   ]
  },
  {
   "cell_type": "code",
   "execution_count": 47,
   "metadata": {},
   "outputs": [
    {
     "data": {
      "text/plain": [
       "array([[0., 0., 0., 0., 0., 0., 0., 0., 0., 0.],\n",
       "       [0., 0., 0., 0., 0., 0., 0., 0., 0., 0.],\n",
       "       [0., 0., 0., 0., 0., 0., 0., 0., 0., 0.],\n",
       "       [0., 0., 0., 0., 0., 0., 0., 0., 0., 0.],\n",
       "       [0., 0., 0., 0., 0., 0., 0., 0., 0., 0.],\n",
       "       [0., 0., 0., 0., 0., 0., 0., 0., 0., 0.],\n",
       "       [0., 0., 0., 0., 0., 0., 0., 0., 0., 0.],\n",
       "       [0., 0., 0., 0., 0., 0., 0., 0., 0., 0.],\n",
       "       [0., 0., 0., 0., 0., 0., 0., 0., 0., 0.],\n",
       "       [0., 0., 0., 0., 0., 0., 0., 0., 0., 0.]])"
      ]
     },
     "execution_count": 47,
     "metadata": {},
     "output_type": "execute_result"
    }
   ],
   "source": [
    "a"
   ]
  },
  {
   "cell_type": "code",
   "execution_count": 48,
   "metadata": {},
   "outputs": [],
   "source": [
    "# set every other element of a to 1 along both colums and rows so you end up with a checkerboard\n",
    "\n",
    "# there should be a better way to do this via a list comprehension or something...\n",
    "for row in range(len(a)):\n",
    "    for col in range(len(a[row])):\n",
    "        if (count + (row%2)) % 2 == 0:\n",
    "            a[row,col] = 1\n",
    "        count += 1\n",
    "\n",
    "\n",
    "# the key is to remember that the notation is [start:end:step]\n",
    "# and that missing values have expected results\n",
    "#[x for x in b[::2]]\n",
    "#x for x in a[]"
   ]
  },
  {
   "cell_type": "code",
   "execution_count": 49,
   "metadata": {},
   "outputs": [
    {
     "data": {
      "text/plain": [
       "array([[1., 0., 1., 0., 1., 0., 1., 0., 1., 0.],\n",
       "       [0., 1., 0., 1., 0., 1., 0., 1., 0., 1.],\n",
       "       [1., 0., 1., 0., 1., 0., 1., 0., 1., 0.],\n",
       "       [0., 1., 0., 1., 0., 1., 0., 1., 0., 1.],\n",
       "       [1., 0., 1., 0., 1., 0., 1., 0., 1., 0.],\n",
       "       [0., 1., 0., 1., 0., 1., 0., 1., 0., 1.],\n",
       "       [1., 0., 1., 0., 1., 0., 1., 0., 1., 0.],\n",
       "       [0., 1., 0., 1., 0., 1., 0., 1., 0., 1.],\n",
       "       [1., 0., 1., 0., 1., 0., 1., 0., 1., 0.],\n",
       "       [0., 1., 0., 1., 0., 1., 0., 1., 0., 1.]])"
      ]
     },
     "execution_count": 49,
     "metadata": {},
     "output_type": "execute_result"
    }
   ],
   "source": [
    "a"
   ]
  },
  {
   "cell_type": "code",
   "execution_count": 50,
   "metadata": {},
   "outputs": [
    {
     "data": {
      "text/plain": [
       "array([ 5,  6,  7,  8,  9, 10, 11, 12, 13, 14])"
      ]
     },
     "execution_count": 50,
     "metadata": {},
     "output_type": "execute_result"
    }
   ],
   "source": [
    "# generate an array to be the sequence of from 5 included to 15 excluded\n",
    "b = np.array(range(5,15))\n",
    "b"
   ]
  },
  {
   "cell_type": "code",
   "execution_count": 83,
   "metadata": {},
   "outputs": [
    {
     "data": {
      "text/plain": [
       "array([[ 5.,  0.,  5.,  0.,  5.,  0.,  5.,  0.,  5.,  0.],\n",
       "       [ 0.,  6.,  0.,  6.,  0.,  6.,  0.,  6.,  0.,  6.],\n",
       "       [ 7.,  0.,  7.,  0.,  7.,  0.,  7.,  0.,  7.,  0.],\n",
       "       [ 0.,  8.,  0.,  8.,  0.,  8.,  0.,  8.,  0.,  8.],\n",
       "       [ 9.,  0.,  9.,  0.,  9.,  0.,  9.,  0.,  9.,  0.],\n",
       "       [ 0., 10.,  0., 10.,  0., 10.,  0., 10.,  0., 10.],\n",
       "       [11.,  0., 11.,  0., 11.,  0., 11.,  0., 11.,  0.],\n",
       "       [ 0., 12.,  0., 12.,  0., 12.,  0., 12.,  0., 12.],\n",
       "       [13.,  0., 13.,  0., 13.,  0., 13.,  0., 13.,  0.],\n",
       "       [ 0., 14.,  0., 14.,  0., 14.,  0., 14.,  0., 14.]])"
      ]
     },
     "execution_count": 83,
     "metadata": {},
     "output_type": "execute_result"
    }
   ],
   "source": [
    "# multiply a times b in such a way that now the first row is an alternation of zeros and fives,\n",
    "# the second row is an alternation of zeros and sixes\n",
    "b1 = b.reshape([1,10], order='F')\n",
    "c = a*b1.transpose()\n",
    "c"
   ]
  },
  {
   "cell_type": "code",
   "execution_count": 87,
   "metadata": {},
   "outputs": [
    {
     "data": {
      "text/plain": [
       "array([2.5, 3. , 3.5, 4. , 4.5, 5. , 5.5, 6. , 6.5, 7. ])"
      ]
     },
     "execution_count": 87,
     "metadata": {},
     "output_type": "execute_result"
    }
   ],
   "source": [
    "# calculate the row-wise mean of c\n",
    "np.mean(c, axis=1)"
   ]
  },
  {
   "cell_type": "code",
   "execution_count": null,
   "metadata": {},
   "outputs": [],
   "source": [
    "# calculate the column-wise mean of c\n",
    "np.mean(c, axis=0)"
   ]
  },
  {
   "cell_type": "code",
   "execution_count": 91,
   "metadata": {},
   "outputs": [
    {
     "data": {
      "text/plain": [
       "array([2.5, 3. , 3.5, 4. , 4.5, 5. , 5.5, 6. , 6.5, 7. ])"
      ]
     },
     "execution_count": 91,
     "metadata": {},
     "output_type": "execute_result"
    }
   ],
   "source": [
    "# calculate the row-wise std deviation of c\n",
    "np.std(c, axis=1)"
   ]
  },
  {
   "cell_type": "code",
   "execution_count": 92,
   "metadata": {},
   "outputs": [
    {
     "data": {
      "text/plain": [
       "array([4.9244289 , 5.38516481, 4.9244289 , 5.38516481, 4.9244289 ,\n",
       "       5.38516481, 4.9244289 , 5.38516481, 4.9244289 , 5.38516481])"
      ]
     },
     "execution_count": 92,
     "metadata": {},
     "output_type": "execute_result"
    }
   ],
   "source": [
    "# calculate the column-wise std deviation of c\n",
    "np.std(c, axis=0)"
   ]
  },
  {
   "cell_type": "code",
   "execution_count": 118,
   "metadata": {},
   "outputs": [
    {
     "name": "stdout",
     "output_type": "stream",
     "text": [
      "[[ 5.  5.  5.  5.  5.]\n",
      " [ 6.  6.  6.  6.  6.]\n",
      " [ 7.  7.  7.  7.  7.]\n",
      " [ 8.  8.  8.  8.  8.]\n",
      " [ 9.  9.  9.  9.  9.]\n",
      " [10. 10. 10. 10. 10.]\n",
      " [11. 11. 11. 11. 11.]\n",
      " [12. 12. 12. 12. 12.]\n",
      " [13. 13. 13. 13. 13.]\n",
      " [14. 14. 14. 14. 14.]]\n"
     ]
    }
   ],
   "source": [
    "# create a new array of shape=(10, 5) and fill it with the non-zero values of c, call it d\n",
    "\n",
    "# note, I tried to be clever and do it this way:\n",
    "d = c.flatten()[::2]\n",
    "d = d.reshape([10,5])\n",
    "d\n",
    "# but that didn't work out due to the offset of of the odd-indexed rows of c (every-other row was wrong)\n",
    "\n",
    "# instead, I went with a more straight-forward (though less pythonic) approach\n",
    "#d = np.array([10,5])\n",
    "#for idx in range(len(c)):\n",
    "#    d[idx] = [c[idx][::2]]\n",
    "#\n",
    "#d\n",
    "\n",
    "# the more I went down that path, the more I thought that was stupid... I ended up with the following:\n",
    "d = np.array([x for x in c.flatten() if x > 0])\n",
    "d = d.reshape([10,5])\n",
    "print(d)"
   ]
  },
  {
   "cell_type": "code",
   "execution_count": 122,
   "metadata": {},
   "outputs": [
    {
     "data": {
      "text/plain": [
       "array([[ 5.00192865,  5.06254579,  5.04608926,  5.02054804,  5.02324691],\n",
       "       [ 6.11161672,  6.09312147,  5.99756807,  6.17126153,  6.07016956],\n",
       "       [ 7.03095336,  7.09708568,  6.9378418 ,  7.0283509 ,  7.05011402],\n",
       "       [ 8.07679766,  8.05566364,  7.90990308,  8.11190335,  7.8666585 ],\n",
       "       [ 8.97413414,  8.85375108,  9.08039105,  8.9669005 ,  8.86861819],\n",
       "       [10.08409425,  9.95053035, 10.04679704,  9.8958251 , 10.22256733],\n",
       "       [11.0807298 , 10.99742465, 11.01393603, 10.94153517, 11.02485026],\n",
       "       [12.07875953, 11.98410557, 12.08883001, 11.97972475, 11.92940137],\n",
       "       [13.08285571, 12.95378055, 13.05401276, 13.17159021, 13.08611057],\n",
       "       [14.0807196 , 13.99679855, 14.04527764, 14.10007589, 14.07208788]])"
      ]
     },
     "execution_count": 122,
     "metadata": {},
     "output_type": "execute_result"
    }
   ],
   "source": [
    "# add random gaussian noise to d, centered on zero and with std. deviation of 0.1. Call the new array e\n",
    "e = d + np.random.normal(0,0.1,50).reshape([10,5])\n",
    "e"
   ]
  }
 ],
 "metadata": {
  "kernelspec": {
   "display_name": "Python 3",
   "language": "python",
   "name": "python3"
  },
  "language_info": {
   "codemirror_mode": {
    "name": "ipython",
    "version": 3
   },
   "file_extension": ".py",
   "mimetype": "text/x-python",
   "name": "python",
   "nbconvert_exporter": "python",
   "pygments_lexer": "ipython3",
   "version": "3.4.5"
  }
 },
 "nbformat": 4,
 "nbformat_minor": 2
}
