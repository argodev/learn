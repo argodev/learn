{
 "cells": [
  {
   "cell_type": "code",
   "execution_count": 1,
   "metadata": {},
   "outputs": [],
   "source": [
    "import numpy as np\n",
    "%matplotlib inline\n",
    "import matplotlib.pyplot as plt"
   ]
  },
  {
   "cell_type": "markdown",
   "metadata": {},
   "source": [
    "# Exercise 1"
   ]
  },
  {
   "cell_type": "code",
   "execution_count": 45,
   "metadata": {},
   "outputs": [],
   "source": [
    "# generate an array of zeros with shape=(10,10)\n",
    "a = np.zeros([10,10])"
   ]
  },
  {
   "cell_type": "code",
   "execution_count": 46,
   "metadata": {},
   "outputs": [
    {
     "data": {
      "text/plain": [
       "(10, 10)"
      ]
     },
     "execution_count": 46,
     "metadata": {},
     "output_type": "execute_result"
    }
   ],
   "source": [
    "a.shape"
   ]
  },
  {
   "cell_type": "code",
   "execution_count": 47,
   "metadata": {},
   "outputs": [
    {
     "data": {
      "text/plain": [
       "array([[0., 0., 0., 0., 0., 0., 0., 0., 0., 0.],\n",
       "       [0., 0., 0., 0., 0., 0., 0., 0., 0., 0.],\n",
       "       [0., 0., 0., 0., 0., 0., 0., 0., 0., 0.],\n",
       "       [0., 0., 0., 0., 0., 0., 0., 0., 0., 0.],\n",
       "       [0., 0., 0., 0., 0., 0., 0., 0., 0., 0.],\n",
       "       [0., 0., 0., 0., 0., 0., 0., 0., 0., 0.],\n",
       "       [0., 0., 0., 0., 0., 0., 0., 0., 0., 0.],\n",
       "       [0., 0., 0., 0., 0., 0., 0., 0., 0., 0.],\n",
       "       [0., 0., 0., 0., 0., 0., 0., 0., 0., 0.],\n",
       "       [0., 0., 0., 0., 0., 0., 0., 0., 0., 0.]])"
      ]
     },
     "execution_count": 47,
     "metadata": {},
     "output_type": "execute_result"
    }
   ],
   "source": [
    "a"
   ]
  },
  {
   "cell_type": "code",
   "execution_count": 48,
   "metadata": {},
   "outputs": [],
   "source": [
    "# set every other element of a to 1 along both colums and rows so you end up with a checkerboard\n",
    "\n",
    "# there should be a better way to do this via a list comprehension or something...\n",
    "for row in range(len(a)):\n",
    "    for col in range(len(a[row])):\n",
    "        if (count + (row%2)) % 2 == 0:\n",
    "            a[row,col] = 1\n",
    "        count += 1\n",
    "\n",
    "\n",
    "# the key is to remember that the notation is [start:end:step]\n",
    "# and that missing values have expected results\n",
    "#[x for x in b[::2]]\n",
    "#x for x in a[]"
   ]
  },
  {
   "cell_type": "code",
   "execution_count": 49,
   "metadata": {},
   "outputs": [
    {
     "data": {
      "text/plain": [
       "array([[1., 0., 1., 0., 1., 0., 1., 0., 1., 0.],\n",
       "       [0., 1., 0., 1., 0., 1., 0., 1., 0., 1.],\n",
       "       [1., 0., 1., 0., 1., 0., 1., 0., 1., 0.],\n",
       "       [0., 1., 0., 1., 0., 1., 0., 1., 0., 1.],\n",
       "       [1., 0., 1., 0., 1., 0., 1., 0., 1., 0.],\n",
       "       [0., 1., 0., 1., 0., 1., 0., 1., 0., 1.],\n",
       "       [1., 0., 1., 0., 1., 0., 1., 0., 1., 0.],\n",
       "       [0., 1., 0., 1., 0., 1., 0., 1., 0., 1.],\n",
       "       [1., 0., 1., 0., 1., 0., 1., 0., 1., 0.],\n",
       "       [0., 1., 0., 1., 0., 1., 0., 1., 0., 1.]])"
      ]
     },
     "execution_count": 49,
     "metadata": {},
     "output_type": "execute_result"
    }
   ],
   "source": [
    "a"
   ]
  },
  {
   "cell_type": "code",
   "execution_count": 50,
   "metadata": {},
   "outputs": [
    {
     "data": {
      "text/plain": [
       "array([ 5,  6,  7,  8,  9, 10, 11, 12, 13, 14])"
      ]
     },
     "execution_count": 50,
     "metadata": {},
     "output_type": "execute_result"
    }
   ],
   "source": [
    "# generate an array to be the sequence of from 5 included to 15 excluded\n",
    "b = np.array(range(5,15))\n",
    "b"
   ]
  },
  {
   "cell_type": "code",
   "execution_count": 83,
   "metadata": {},
   "outputs": [
    {
     "data": {
      "text/plain": [
       "array([[ 5.,  0.,  5.,  0.,  5.,  0.,  5.,  0.,  5.,  0.],\n",
       "       [ 0.,  6.,  0.,  6.,  0.,  6.,  0.,  6.,  0.,  6.],\n",
       "       [ 7.,  0.,  7.,  0.,  7.,  0.,  7.,  0.,  7.,  0.],\n",
       "       [ 0.,  8.,  0.,  8.,  0.,  8.,  0.,  8.,  0.,  8.],\n",
       "       [ 9.,  0.,  9.,  0.,  9.,  0.,  9.,  0.,  9.,  0.],\n",
       "       [ 0., 10.,  0., 10.,  0., 10.,  0., 10.,  0., 10.],\n",
       "       [11.,  0., 11.,  0., 11.,  0., 11.,  0., 11.,  0.],\n",
       "       [ 0., 12.,  0., 12.,  0., 12.,  0., 12.,  0., 12.],\n",
       "       [13.,  0., 13.,  0., 13.,  0., 13.,  0., 13.,  0.],\n",
       "       [ 0., 14.,  0., 14.,  0., 14.,  0., 14.,  0., 14.]])"
      ]
     },
     "execution_count": 83,
     "metadata": {},
     "output_type": "execute_result"
    }
   ],
   "source": [
    "# multiply a times b in such a way that now the first row is an alternation of zeros and fives,\n",
    "# the second row is an alternation of zeros and sixes\n",
    "b1 = b.reshape([1,10], order='F')\n",
    "c = a*b1.transpose()\n",
    "c"
   ]
  },
  {
   "cell_type": "code",
   "execution_count": 87,
   "metadata": {},
   "outputs": [
    {
     "data": {
      "text/plain": [
       "array([2.5, 3. , 3.5, 4. , 4.5, 5. , 5.5, 6. , 6.5, 7. ])"
      ]
     },
     "execution_count": 87,
     "metadata": {},
     "output_type": "execute_result"
    }
   ],
   "source": [
    "# calculate the row-wise mean of c\n",
    "np.mean(c, axis=1)"
   ]
  },
  {
   "cell_type": "code",
   "execution_count": null,
   "metadata": {},
   "outputs": [],
   "source": [
    "# calculate the column-wise mean of c\n",
    "np.mean(c, axis=0)"
   ]
  },
  {
   "cell_type": "code",
   "execution_count": 91,
   "metadata": {},
   "outputs": [
    {
     "data": {
      "text/plain": [
       "array([2.5, 3. , 3.5, 4. , 4.5, 5. , 5.5, 6. , 6.5, 7. ])"
      ]
     },
     "execution_count": 91,
     "metadata": {},
     "output_type": "execute_result"
    }
   ],
   "source": [
    "# calculate the row-wise std deviation of c\n",
    "np.std(c, axis=1)"
   ]
  },
  {
   "cell_type": "code",
   "execution_count": 92,
   "metadata": {},
   "outputs": [
    {
     "data": {
      "text/plain": [
       "array([4.9244289 , 5.38516481, 4.9244289 , 5.38516481, 4.9244289 ,\n",
       "       5.38516481, 4.9244289 , 5.38516481, 4.9244289 , 5.38516481])"
      ]
     },
     "execution_count": 92,
     "metadata": {},
     "output_type": "execute_result"
    }
   ],
   "source": [
    "# calculate the column-wise std deviation of c\n",
    "np.std(c, axis=0)"
   ]
  },
  {
   "cell_type": "code",
   "execution_count": 118,
   "metadata": {},
   "outputs": [
    {
     "name": "stdout",
     "output_type": "stream",
     "text": [
      "[[ 5.  5.  5.  5.  5.]\n",
      " [ 6.  6.  6.  6.  6.]\n",
      " [ 7.  7.  7.  7.  7.]\n",
      " [ 8.  8.  8.  8.  8.]\n",
      " [ 9.  9.  9.  9.  9.]\n",
      " [10. 10. 10. 10. 10.]\n",
      " [11. 11. 11. 11. 11.]\n",
      " [12. 12. 12. 12. 12.]\n",
      " [13. 13. 13. 13. 13.]\n",
      " [14. 14. 14. 14. 14.]]\n"
     ]
    }
   ],
   "source": [
    "# create a new array of shape=(10, 5) and fill it with the non-zero values of c, call it d\n",
    "\n",
    "# note, I tried to be clever and do it this way:\n",
    "d = c.flatten()[::2]\n",
    "d = d.reshape([10,5])\n",
    "d\n",
    "# but that didn't work out due to the offset of of the odd-indexed rows of c (every-other row was wrong)\n",
    "\n",
    "# instead, I went with a more straight-forward (though less pythonic) approach\n",
    "#d = np.array([10,5])\n",
    "#for idx in range(len(c)):\n",
    "#    d[idx] = [c[idx][::2]]\n",
    "#\n",
    "#d\n",
    "\n",
    "# the more I went down that path, the more I thought that was stupid... I ended up with the following:\n",
    "d = np.array([x for x in c.flatten() if x > 0])\n",
    "d = d.reshape([10,5])\n",
    "print(d)"
   ]
  },
  {
   "cell_type": "code",
   "execution_count": 122,
   "metadata": {},
   "outputs": [
    {
     "data": {
      "text/plain": [
       "array([[ 5.00192865,  5.06254579,  5.04608926,  5.02054804,  5.02324691],\n",
       "       [ 6.11161672,  6.09312147,  5.99756807,  6.17126153,  6.07016956],\n",
       "       [ 7.03095336,  7.09708568,  6.9378418 ,  7.0283509 ,  7.05011402],\n",
       "       [ 8.07679766,  8.05566364,  7.90990308,  8.11190335,  7.8666585 ],\n",
       "       [ 8.97413414,  8.85375108,  9.08039105,  8.9669005 ,  8.86861819],\n",
       "       [10.08409425,  9.95053035, 10.04679704,  9.8958251 , 10.22256733],\n",
       "       [11.0807298 , 10.99742465, 11.01393603, 10.94153517, 11.02485026],\n",
       "       [12.07875953, 11.98410557, 12.08883001, 11.97972475, 11.92940137],\n",
       "       [13.08285571, 12.95378055, 13.05401276, 13.17159021, 13.08611057],\n",
       "       [14.0807196 , 13.99679855, 14.04527764, 14.10007589, 14.07208788]])"
      ]
     },
     "execution_count": 122,
     "metadata": {},
     "output_type": "execute_result"
    }
   ],
   "source": [
    "# add random gaussian noise to d, centered on zero and with std. deviation of 0.1. Call the new array e\n",
    "e = d + np.random.normal(0,0.1,50).reshape([10,5])\n",
    "e"
   ]
  },
  {
   "cell_type": "markdown",
   "metadata": {},
   "source": [
    "# Exercise 2"
   ]
  },
  {
   "cell_type": "markdown",
   "metadata": {},
   "source": [
    "use `plt.imshow()` to display the array `a` as in image, does it look like a checkerboard?"
   ]
  },
  {
   "cell_type": "code",
   "execution_count": 124,
   "metadata": {},
   "outputs": [
    {
     "data": {
      "text/plain": [
       "<matplotlib.image.AxesImage at 0x7fe0ae5badd8>"
      ]
     },
     "execution_count": 124,
     "metadata": {},
     "output_type": "execute_result"
    },
    {
     "data": {
      "image/png": "[encoded data removed]",
      "text/plain": [
       "<Figure size 432x288 with 1 Axes>"
      ]
     },
     "metadata": {},
     "output_type": "display_data"
    }
   ],
   "source": [
    "plt.imshow(a)"
   ]
  },
  {
   "cell_type": "markdown",
   "metadata": {},
   "source": [
    "display `c`, `d`, and `e` using the same function, change the colormap to grayscale"
   ]
  },
  {
   "cell_type": "code",
   "execution_count": 133,
   "metadata": {},
   "outputs": [
    {
     "data": {
      "text/plain": [
       "<matplotlib.image.AxesImage at 0x7fe0ac3f1828>"
      ]
     },
     "execution_count": 133,
     "metadata": {},
     "output_type": "execute_result"
    },
    {
     "data": {
      "image/png": "[encoded data removed]",
      "text/plain": [
       "<Figure size 432x288 with 1 Axes>"
      ]
     },
     "metadata": {},
     "output_type": "display_data"
    }
   ],
   "source": [
    "plt.imshow(c,  cmap='gray')"
   ]
  },
  {
   "cell_type": "code",
   "execution_count": 131,
   "metadata": {},
   "outputs": [
    {
     "data": {
      "text/plain": [
       "<matplotlib.image.AxesImage at 0x7fe0ac415e10>"
      ]
     },
     "execution_count": 131,
     "metadata": {},
     "output_type": "execute_result"
    },
    {
     "data": {
      "image/png": "[encoded data removed]",
      "text/plain": [
       "<Figure size 432x288 with 1 Axes>"
      ]
     },
     "metadata": {},
     "output_type": "display_data"
    }
   ],
   "source": [
    "plt.imshow(d,  cmap='gray')"
   ]
  },
  {
   "cell_type": "code",
   "execution_count": 132,
   "metadata": {},
   "outputs": [
    {
     "data": {
      "text/plain": [
       "<matplotlib.image.AxesImage at 0x7fe0ac3c1c18>"
      ]
     },
     "execution_count": 132,
     "metadata": {},
     "output_type": "execute_result"
    },
    {
     "data": {
      "image/png": "[encoded data removed]",
      "text/plain": [
       "<Figure size 432x288 with 1 Axes>"
      ]
     },
     "metadata": {},
     "output_type": "display_data"
    }
   ],
   "source": [
    "plt.imshow(e,  cmap='gray')"
   ]
  },
  {
   "cell_type": "markdown",
   "metadata": {},
   "source": [
    "plot `e` using a line plot, assigning each row to a different data series. This should produce a plot with noisy horizontal lines"
   ]
  },
  {
   "cell_type": "code",
   "execution_count": 129,
   "metadata": {},
   "outputs": [
    {
     "data": {
      "text/plain": [
       "[<matplotlib.lines.Line2D at 0x7fe0ac44ac88>,\n",
       " <matplotlib.lines.Line2D at 0x7fe0ac44add8>,\n",
       " <matplotlib.lines.Line2D at 0x7fe0ac44af28>,\n",
       " <matplotlib.lines.Line2D at 0x7fe0ac44f0b8>,\n",
       " <matplotlib.lines.Line2D at 0x7fe0ac44f208>,\n",
       " <matplotlib.lines.Line2D at 0x7fe0ac44f358>,\n",
       " <matplotlib.lines.Line2D at 0x7fe0ac44f4a8>,\n",
       " <matplotlib.lines.Line2D at 0x7fe0ac44f5f8>,\n",
       " <matplotlib.lines.Line2D at 0x7fe0ac44f748>,\n",
       " <matplotlib.lines.Line2D at 0x7fe0ac44f898>]"
      ]
     },
     "execution_count": 129,
     "metadata": {},
     "output_type": "execute_result"
    },
    {
     "data": {
      "image/png": "[encoded data removed]",
      "text/plain": [
       "<Figure size 432x288 with 1 Axes>"
      ]
     },
     "metadata": {},
     "output_type": "display_data"
    }
   ],
   "source": [
    "plt.plot(e.transpose())"
   ]
  },
  {
   "cell_type": "markdown",
   "metadata": {},
   "source": [
    "# Exercise 3"
   ]
  },
  {
   "cell_type": "markdown",
   "metadata": {},
   "source": [
    "Reuse your code:\n",
    "    - encapsulate the code that calculates the decision boundary in a nice function called `plot_decision_boundary()`"
   ]
  },
  {
   "cell_type": "code",
   "execution_count": 203,
   "metadata": {},
   "outputs": [],
   "source": [
    "def plot_decision_boundary(model, X, y):\n",
    "    min_val = np.floor(min([min(X[:,0]), min(X[:,1])]))\n",
    "    max_val = np.ceil(max([max(X[:,0]), max(X[:,1])]))\n",
    "    \n",
    "    # now let's make it square\n",
    "    actual_max = max([np.absolute(min_val), np.absolute(max_val)])\n",
    "    min_val = -actual_max\n",
    "    max_val = +actual_max\n",
    "\n",
    "    hticks = np.linspace(min_val, max_val, 101)\n",
    "    vticks = np.linspace(min_val, max_val, 101)\n",
    "    aa, bb = np.meshgrid(hticks, vticks)\n",
    "    ab = np.c_[aa.ravel(), bb.ravel()]\n",
    "    c = model.predict(ab)\n",
    "    cc = c.reshape(aa.shape)\n",
    "#     plt.figure(figsize=(10, 10))\n",
    "#     plt.scatter(aa, bb, s=20*cc)\n",
    "    \n",
    "    plt.figure(figsize=(10, 10))\n",
    "    plt.contourf(aa, bb, cc, cmap='bwr', alpha=0.2)\n",
    "    plt.plot(X[y==0, 0], X[y==0, 1], 'ob', alpha=0.5)\n",
    "    plt.plot(X[y==1, 0], X[y==1, 1], 'xr', alpha=0.5)\n",
    "    plt.title('Blue circles and Red crosses')\n"
   ]
  },
  {
   "cell_type": "markdown",
   "metadata": {},
   "source": [
    "# Exercise 4"
   ]
  },
  {
   "cell_type": "code",
   "execution_count": 160,
   "metadata": {},
   "outputs": [
    {
     "data": {
      "text/plain": [
       "<matplotlib.collections.PathCollection at 0x7fe0a2f41da0>"
      ]
     },
     "execution_count": 160,
     "metadata": {},
     "output_type": "execute_result"
    },
    {
     "data": {
      "image/png": "[encoded data removed]",
      "text/plain": [
       "<Figure size 432x288 with 1 Axes>"
      ]
     },
     "metadata": {},
     "output_type": "display_data"
    }
   ],
   "source": [
    "# use the functions make_blobs and make_moons to generate new datasets with 2 classes\n",
    "import sklearn.datasets\n",
    "blobs = sklearn.datasets.make_blobs(centers=2)\n",
    "\n",
    "# let's see what the data looks like\n",
    "plt.scatter(blobs[0][:,0], blobs[0][:,1])"
   ]
  },
  {
   "cell_type": "code",
   "execution_count": 172,
   "metadata": {},
   "outputs": [
    {
     "data": {
      "text/plain": [
       "[<matplotlib.lines.Line2D at 0x7fe0a2e98908>]"
      ]
     },
     "execution_count": 172,
     "metadata": {},
     "output_type": "execute_result"
    },
    {
     "data": {
      "image/png": "[encoded data removed]",
      "text/plain": [
       "<Figure size 432x288 with 1 Axes>"
      ]
     },
     "metadata": {},
     "output_type": "display_data"
    }
   ],
   "source": [
    "# show the two classes \n",
    "plt.step(range(len(blobs[1])), blobs[1])"
   ]
  },
  {
   "cell_type": "code",
   "execution_count": 161,
   "metadata": {},
   "outputs": [
    {
     "data": {
      "text/plain": [
       "<matplotlib.collections.PathCollection at 0x7fe0a2fa9898>"
      ]
     },
     "execution_count": 161,
     "metadata": {},
     "output_type": "execute_result"
    },
    {
     "data": {
      "image/png": "[encoded data removed]",
      "text/plain": [
       "<Figure size 432x288 with 1 Axes>"
      ]
     },
     "metadata": {},
     "output_type": "display_data"
    }
   ],
   "source": [
    "moons = sklearn.datasets.make_moons()\n",
    "\n",
    "# let's see what the data looks like\n",
    "plt.scatter(moons[0][:,0], moons[0][:,1])"
   ]
  },
  {
   "cell_type": "code",
   "execution_count": 171,
   "metadata": {},
   "outputs": [
    {
     "data": {
      "text/plain": [
       "[<matplotlib.lines.Line2D at 0x7fe0a2e69278>]"
      ]
     },
     "execution_count": 171,
     "metadata": {},
     "output_type": "execute_result"
    },
    {
     "data": {
      "image/png": "[encoded data removed]",
      "text/plain": [
       "<Figure size 432x288 with 1 Axes>"
      ]
     },
     "metadata": {},
     "output_type": "display_data"
    }
   ],
   "source": [
    "# and now let's plot the classes\n",
    "plt.step(range(len(moons[1])), moons[1])"
   ]
  },
  {
   "cell_type": "code",
   "execution_count": 173,
   "metadata": {},
   "outputs": [
    {
     "name": "stderr",
     "output_type": "stream",
     "text": [
      "/home/ru7/.virtualenv/testbed/lib64/python3.4/importlib/_bootstrap.py:321: FutureWarning: Conversion of the second argument of issubdtype from `float` to `np.floating` is deprecated. In future, it will be treated as `np.float64 == np.dtype(float).type`.\n",
      "  return f(*args, **kwds)\n",
      "Using TensorFlow backend.\n"
     ]
    }
   ],
   "source": [
    "from keras.models import Sequential\n",
    "from keras.layers import Dense\n",
    "from keras.optimizers import SGD"
   ]
  },
  {
   "cell_type": "code",
   "execution_count": 175,
   "metadata": {},
   "outputs": [],
   "source": [
    "model = Sequential()\n",
    "model.add(Dense(4, input_shape=(2,), activation='tanh'))\n",
    "model.add(Dense(1, activation='sigmoid'))\n",
    "model.compile(SGD(lr=0.5), 'binary_crossentropy', metrics=['accuracy'])"
   ]
  },
  {
   "cell_type": "code",
   "execution_count": 177,
   "metadata": {},
   "outputs": [
    {
     "name": "stdout",
     "output_type": "stream",
     "text": [
      "Epoch 1/20\n",
      "100/100 [==============================] - 0s 777us/step - loss: 0.6371 - acc: 0.7000\n",
      "Epoch 2/20\n",
      "100/100 [==============================] - 0s 120us/step - loss: 0.5489 - acc: 0.6400\n",
      "Epoch 3/20\n",
      "100/100 [==============================] - 0s 122us/step - loss: 0.5606 - acc: 0.7100\n",
      "Epoch 4/20\n",
      "100/100 [==============================] - 0s 160us/step - loss: 0.3566 - acc: 0.9200\n",
      "Epoch 5/20\n",
      "100/100 [==============================] - 0s 124us/step - loss: 0.2113 - acc: 0.9900\n",
      "Epoch 6/20\n",
      "100/100 [==============================] - 0s 78us/step - loss: 0.2168 - acc: 0.9200\n",
      "Epoch 7/20\n",
      "100/100 [==============================] - 0s 87us/step - loss: 0.4637 - acc: 0.8000\n",
      "Epoch 8/20\n",
      "100/100 [==============================] - 0s 86us/step - loss: 0.4663 - acc: 0.7100\n",
      "Epoch 9/20\n",
      "100/100 [==============================] - 0s 87us/step - loss: 0.1907 - acc: 0.9600\n",
      "Epoch 10/20\n",
      "100/100 [==============================] - 0s 126us/step - loss: 0.1583 - acc: 0.9700\n",
      "Epoch 11/20\n",
      "100/100 [==============================] - 0s 144us/step - loss: 0.1078 - acc: 0.9900\n",
      "Epoch 12/20\n",
      "100/100 [==============================] - 0s 92us/step - loss: 0.0919 - acc: 0.9800\n",
      "Epoch 13/20\n",
      "100/100 [==============================] - 0s 104us/step - loss: 0.0812 - acc: 0.9900\n",
      "Epoch 14/20\n",
      "100/100 [==============================] - 0s 87us/step - loss: 0.0731 - acc: 0.9900\n",
      "Epoch 15/20\n",
      "100/100 [==============================] - 0s 92us/step - loss: 0.0585 - acc: 0.9900\n",
      "Epoch 16/20\n",
      "100/100 [==============================] - 0s 114us/step - loss: 0.0466 - acc: 0.9900\n",
      "Epoch 17/20\n",
      "100/100 [==============================] - 0s 76us/step - loss: 0.0344 - acc: 1.0000\n",
      "Epoch 18/20\n",
      "100/100 [==============================] - 0s 124us/step - loss: 0.0335 - acc: 0.9900\n",
      "Epoch 19/20\n",
      "100/100 [==============================] - 0s 83us/step - loss: 0.0282 - acc: 0.9900\n",
      "Epoch 20/20\n",
      "100/100 [==============================] - 0s 121us/step - loss: 0.0243 - acc: 1.0000\n"
     ]
    },
    {
     "data": {
      "text/plain": [
       "<keras.callbacks.History at 0x7fe09349f518>"
      ]
     },
     "execution_count": 177,
     "metadata": {},
     "output_type": "execute_result"
    }
   ],
   "source": [
    "model.fit(blobs[0], blobs[1], epochs=20)"
   ]
  },
  {
   "cell_type": "code",
   "execution_count": 204,
   "metadata": {},
   "outputs": [
    {
     "data": {
      "image/png": "[encoded data removed]",
      "text/plain": [
       "<Figure size 720x720 with 1 Axes>"
      ]
     },
     "metadata": {},
     "output_type": "display_data"
    }
   ],
   "source": [
    "# plot the decision boundary for the model based on the blobs...\n",
    "plot_decision_boundary(model, blobs[0], blobs[1])"
   ]
  },
  {
   "cell_type": "code",
   "execution_count": 205,
   "metadata": {},
   "outputs": [
    {
     "name": "stdout",
     "output_type": "stream",
     "text": [
      "Epoch 1/20\n",
      "100/100 [==============================] - 0s 183us/step - loss: 2.0838 - acc: 0.5000\n",
      "Epoch 2/20\n",
      "100/100 [==============================] - 0s 127us/step - loss: 0.8582 - acc: 0.5800\n",
      "Epoch 3/20\n",
      "100/100 [==============================] - 0s 143us/step - loss: 0.4666 - acc: 0.7900\n",
      "Epoch 4/20\n",
      "100/100 [==============================] - 0s 120us/step - loss: 0.3691 - acc: 0.8600\n",
      "Epoch 5/20\n",
      "100/100 [==============================] - 0s 148us/step - loss: 0.3284 - acc: 0.8600\n",
      "Epoch 6/20\n",
      "100/100 [==============================] - 0s 98us/step - loss: 0.3056 - acc: 0.8600\n",
      "Epoch 7/20\n",
      "100/100 [==============================] - 0s 94us/step - loss: 0.2899 - acc: 0.8700\n",
      "Epoch 8/20\n",
      "100/100 [==============================] - 0s 116us/step - loss: 0.2929 - acc: 0.8800\n",
      "Epoch 9/20\n",
      "100/100 [==============================] - 0s 113us/step - loss: 0.2998 - acc: 0.8500\n",
      "Epoch 10/20\n",
      "100/100 [==============================] - 0s 79us/step - loss: 0.3196 - acc: 0.8700\n",
      "Epoch 11/20\n",
      "100/100 [==============================] - 0s 147us/step - loss: 0.2916 - acc: 0.8700\n",
      "Epoch 12/20\n",
      "100/100 [==============================] - 0s 108us/step - loss: 0.2810 - acc: 0.8700\n",
      "Epoch 13/20\n",
      "100/100 [==============================] - 0s 97us/step - loss: 0.2910 - acc: 0.8700\n",
      "Epoch 14/20\n",
      "100/100 [==============================] - 0s 128us/step - loss: 0.2803 - acc: 0.8800\n",
      "Epoch 15/20\n",
      "100/100 [==============================] - 0s 88us/step - loss: 0.2787 - acc: 0.8700\n",
      "Epoch 16/20\n",
      "100/100 [==============================] - 0s 142us/step - loss: 0.2778 - acc: 0.8800\n",
      "Epoch 17/20\n",
      "100/100 [==============================] - 0s 86us/step - loss: 0.2846 - acc: 0.8800\n",
      "Epoch 18/20\n",
      "100/100 [==============================] - 0s 105us/step - loss: 0.2753 - acc: 0.8800\n",
      "Epoch 19/20\n",
      "100/100 [==============================] - 0s 148us/step - loss: 0.2858 - acc: 0.8700\n",
      "Epoch 20/20\n",
      "100/100 [==============================] - 0s 95us/step - loss: 0.2851 - acc: 0.8600\n"
     ]
    },
    {
     "data": {
      "text/plain": [
       "<keras.callbacks.History at 0x7fe0906f8208>"
      ]
     },
     "execution_count": 205,
     "metadata": {},
     "output_type": "execute_result"
    }
   ],
   "source": [
    "model.fit(moons[0], moons[1], epochs=20)"
   ]
  },
  {
   "cell_type": "code",
   "execution_count": 206,
   "metadata": {},
   "outputs": [
    {
     "data": {
      "image/png": "[encoded data removed]",
      "text/plain": [
       "<Figure size 720x720 with 1 Axes>"
      ]
     },
     "metadata": {},
     "output_type": "display_data"
    }
   ],
   "source": [
    "# plot the decision boundary for the model based on the blobs...\n",
    "plot_decision_boundary(model, moons[0], moons[1])"
   ]
  },
  {
   "cell_type": "code",
   "execution_count": null,
   "metadata": {},
   "outputs": [],
   "source": []
  }
 ],
 "metadata": {
  "kernelspec": {
   "display_name": "Python 3",
   "language": "python",
   "name": "python3"
  },
  "language_info": {
   "codemirror_mode": {
    "name": "ipython",
    "version": 3
   },
   "file_extension": ".py",
   "mimetype": "text/x-python",
   "name": "python",
   "nbconvert_exporter": "python",
   "pygments_lexer": "ipython3",
   "version": "3.4.5"
  }
 },
 "nbformat": 4,
 "nbformat_minor": 2
}
