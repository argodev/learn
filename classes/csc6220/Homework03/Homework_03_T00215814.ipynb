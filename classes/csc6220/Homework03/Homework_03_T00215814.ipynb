{
 "cells": [
  {
   "cell_type": "markdown",
   "metadata": {},
   "source": [
    "# CSC 6220 Homework 3\n",
    "#### Rob Gillen, T00215814"
   ]
  },
  {
   "cell_type": "code",
   "execution_count": 9,
   "metadata": {},
   "outputs": [],
   "source": [
    "# setup some things for subsequent computations\n",
    "%matplotlib inline\n",
    "\n",
    "import math\n",
    "import matplotlib\n",
    "import numpy as np\n",
    "import scipy.spatial\n",
    "import scipy.stats\n",
    "import matplotlib.pyplot as plt\n",
    "import seaborn as sns; sns.set()  # for plot styling"
   ]
  },
  {
   "cell_type": "markdown",
   "metadata": {},
   "source": [
    "## Problem 10.2 (12pts)\n",
    "__Suppose that the data mining task is to cluster points (with `(x, y)` representing location) into three clusters, where the points are:__\n",
    "\n",
    "$$A_1(2,10),A_2(2,5),A_3(8,4),B_1(5,8),B_2(7,5),B_3(6,4),C_1(1,2),C_2(4,9)$$\n",
    "\n",
    "__The distance function is Euclidean distance. Suppose initially we assign $A_1$, $B_1$, and $C_1$ as the center of each cluster, respectively. Use the k-means algorithm to show only:__\n",
    "\n",
    "__(a) The three cluster centers after the first round of execution__\n",
    "\n",
    "Calculate disance from non-centroids to each centroid\n",
    "\n",
    "|   |A_1|B_1|C_1|\n",
    "|---|----:|----:|----:|\n",
    "|A_2|5.0 | 4.2426406871192848 | 3.1622776601683795 |\n",
    "|A_3|8.4852813742385695 | 5.0 | 7.2801098892805181 |\n",
    "|B_2|7.0710678118654755 | 3.6055512754639891 | 6.7082039324993694 |\n",
    "|B_3|7.2111025509279782 | 4.1231056256176606 | 5.3851648071345037 |\n",
    "|C_2|2.2360679774997898 | 1.4142135623730951 | 7.6157731058639087 |\n",
    "\n",
    "assign based on minimum distance:\n",
    "\n",
    "- A1\n",
    "- B1, A3, B2, B3, C2\n",
    "- C1, A2"
   ]
  },
  {
   "cell_type": "code",
   "execution_count": 10,
   "metadata": {},
   "outputs": [
    {
     "data": {
      "image/png": "[encoded data removed]",
      "text/plain": [
       "<matplotlib.figure.Figure at 0x7f1c071419d0>"
      ]
     },
     "metadata": {},
     "output_type": "display_data"
    }
   ],
   "source": [
    "A1 = np.array((2,10))\n",
    "A2 = np.array((2,5))\n",
    "A3 = np.array((8,4))\n",
    "B1 = np.array((5,8))\n",
    "B2 = np.array((7,5))\n",
    "B3 = np.array((6,4))\n",
    "C1 = np.array((1,2)) \n",
    "C2 = np.array((4,9))\n",
    "X = np.array([A1,A2,A3,B1,B2,B3,C1,C2])\n",
    "\n",
    "y_kmeans = np.array([0, 2, 1, 1, 1, 1, 2, 1])\n",
    "plt.scatter(X[:, 0], X[:, 1],c=y_kmeans, s=50, cmap='viridis')\n",
    "\n",
    "\n",
    "centers = np.array([A1, B1, C1])\n",
    "plt.scatter(centers[:, 0], centers[:, 1], c='black', s=200, alpha=0.25);"
   ]
  },
  {
   "cell_type": "code",
   "execution_count": 3,
   "metadata": {},
   "outputs": [
    {
     "data": {
      "text/plain": [
       "[2.2360679774997898, 1.4142135623730951, 7.6157731058639087]"
      ]
     },
     "execution_count": 3,
     "metadata": {},
     "output_type": "execute_result"
    }
   ],
   "source": [
    "# caluclate the distance b/t each non-centroid and each centroid, assign to the lowest\n",
    "A1 = np.array((2,10))\n",
    "A2 = np.array((2,5))\n",
    "A3 = np.array((8,4))\n",
    "B1 = np.array((5,8))\n",
    "B2 = np.array((7,5))\n",
    "B3 = np.array((6,4))\n",
    "C1 = np.array((1,2)) \n",
    "C2 = np.array((4,9))\n",
    "\n",
    "a2 = []\n",
    "a2.append(np.linalg.norm(A1 - A2))\n",
    "a2.append(np.linalg.norm(B1 - A2))\n",
    "a2.append(np.linalg.norm(C1 - A2))\n",
    "a2\n",
    "\n",
    "a3 = []\n",
    "a3.append(np.linalg.norm(A1 - A3))\n",
    "a3.append(np.linalg.norm(B1 - A3))\n",
    "a3.append(np.linalg.norm(C1 - A3))\n",
    "a3\n",
    "\n",
    "b2 = []\n",
    "b2.append(np.linalg.norm(A1 - B2))\n",
    "b2.append(np.linalg.norm(B1 - B2))\n",
    "b2.append(np.linalg.norm(C1 - B2))\n",
    "b2\n",
    "\n",
    "b3 = []\n",
    "b3.append(np.linalg.norm(A1 - B3))\n",
    "b3.append(np.linalg.norm(B1 - B3))\n",
    "b3.append(np.linalg.norm(C1 - B3))\n",
    "b3\n",
    "\n",
    "c2 = []\n",
    "c2.append(np.linalg.norm(A1 - C2))\n",
    "c2.append(np.linalg.norm(B1 - C2))\n",
    "c2.append(np.linalg.norm(C1 - C2))\n",
    "c2"
   ]
  },
  {
   "cell_type": "markdown",
   "metadata": {},
   "source": [
    "__(b) The final three clusters__\n",
    "\n",
    "In my calculations, I ended up with the following final clusters:\n",
    "\n",
    "- A1, C2\n",
    "- B1, A3, B2, B3\n",
    "- C1, A2\n",
    "\n",
    "> _However_, after round 3, the distance of B1 from the centroid of cluster 1 and cluster 2 was equal... you could argue that it should move and would have provided better/higher separation between the clusters. My calculations are shown below. Further, I ran the sklearn version of kmeans just to see what it would do... it split it into three, but with a different assignment\n"
   ]
  },
  {
   "cell_type": "code",
   "execution_count": 4,
   "metadata": {},
   "outputs": [
    {
     "data": {
      "image/png": "[encoded data removed]",
      "text/plain": [
       "<matplotlib.figure.Figure at 0x7f1c072b9c90>"
      ]
     },
     "metadata": {},
     "output_type": "display_data"
    }
   ],
   "source": [
    "# my hand-calulcated, final clusters (see caveat above)\n",
    "y_kmeans = np.array([0, 2, 1, 1, 1, 1, 2, 0])\n",
    "plt.scatter(X[:, 0], X[:, 1],c=y_kmeans, s=50, cmap='viridis')\n",
    "centers = np.array([[3,9.5], [6.5, 6.0], [1.5,3.5]])\n",
    "plt.scatter(centers[:, 0], centers[:, 1], c='black', s=200, alpha=0.25);"
   ]
  },
  {
   "cell_type": "code",
   "execution_count": 5,
   "metadata": {},
   "outputs": [
    {
     "data": {
      "image/png": "[encoded data removed]",
      "text/plain": [
       "<matplotlib.figure.Figure at 0x7f1c0709ebd0>"
      ]
     },
     "metadata": {},
     "output_type": "display_data"
    }
   ],
   "source": [
    "# if I let stuff go foward (allow B1 to move to clus1 even though it is equidistant to clus2), I get the following:\n",
    "y_kmeans = np.array([0, 2, 1, 0, 1, 1, 2, 0])\n",
    "plt.scatter(X[:, 0], X[:, 1],c=y_kmeans, s=50, cmap='viridis')\n",
    "centers = np.array([[3.5,9.0], [7.0, 4.5], [1.5,3.5]])\n",
    "plt.scatter(centers[:, 0], centers[:, 1], c='black', s=200, alpha=0.25);"
   ]
  },
  {
   "cell_type": "markdown",
   "metadata": {},
   "source": [
    "With the above, allowing things to move further, I end up with:\n",
    "\n",
    "- A1, B1, C2\n",
    "- A3, B2, B3\n",
    "- C1, A2\n"
   ]
  },
  {
   "cell_type": "code",
   "execution_count": 6,
   "metadata": {},
   "outputs": [
    {
     "data": {
      "text/plain": [
       "(1.5, 3.5)"
      ]
     },
     "execution_count": 6,
     "metadata": {},
     "output_type": "execute_result"
    }
   ],
   "source": [
    "# round 1 clusters\n",
    "clus01 = [A1]\n",
    "clus02 = [A3, B1, B2, B3, C2]\n",
    "clus03 = [A2, C1]\n",
    "\n",
    "# after round 1, re-calculate centers\n",
    "x,y = zip(*clus01)\n",
    "center = (max(x) + min(x))/2., (max(y)+min(y))/2.\n",
    "center\n",
    "\n",
    "x,y = zip(*clus02)\n",
    "center = (max(x) + min(x))/2., (max(y)+min(y))/2.\n",
    "center\n",
    "\n",
    "x,y = zip(*clus03)\n",
    "center = (max(x) + min(x))/2., (max(y)+min(y))/2.\n",
    "center\n",
    "\n",
    "# round 2 clusters\n",
    "clus01 = [A1, C2]\n",
    "clus02 = [A3, B1, B2, B3]\n",
    "clus03 = [A2, C1]\n",
    "\n",
    "# after round 2, re-calculate centers\n",
    "x,y = zip(*clus01)\n",
    "center = (max(x) + min(x))/2., (max(y)+min(y))/2.\n",
    "center\n",
    "\n",
    "x,y = zip(*clus02)\n",
    "center = (max(x) + min(x))/2., (max(y)+min(y))/2.\n",
    "center\n",
    "\n",
    "x,y = zip(*clus03)\n",
    "center = (max(x) + min(x))/2., (max(y)+min(y))/2.\n",
    "center\n",
    "\n",
    "# round 3 clusters\n",
    "clus01 = [A1, C2]\n",
    "clus02 = [A3, B1, B2, B3]\n",
    "clus03 = [A2, C1]\n",
    "\n",
    "# forced move-forward to see what happens if I let B1 move as part of round 3\n",
    "clus01 = [A1, B1, C2]\n",
    "clus02 = [A3, B2, B3]\n",
    "clus03 = [A2, C1]\n",
    "\n",
    "x,y = zip(*clus01)\n",
    "center = (max(x) + min(x))/2., (max(y)+min(y))/2.\n",
    "center\n",
    "\n",
    "x,y = zip(*clus02)\n",
    "center = (max(x) + min(x))/2., (max(y)+min(y))/2.\n",
    "center\n",
    "\n",
    "x,y = zip(*clus03)\n",
    "center = (max(x) + min(x))/2., (max(y)+min(y))/2.\n",
    "center"
   ]
  },
  {
   "cell_type": "code",
   "execution_count": 8,
   "metadata": {},
   "outputs": [
    {
     "data": {
      "image/png": "[encoded data removed]",
      "text/plain": [
       "<matplotlib.figure.Figure at 0x7f1c06d697d0>"
      ]
     },
     "metadata": {},
     "output_type": "display_data"
    }
   ],
   "source": [
    "# on a whim, I let sklearn take a shot and see what i get... the below is pretty \n",
    "# similar to my secondary answer above. The centroids aren't exactly the same (expected)\n",
    "# but the clusters are\n",
    "from sklearn.cluster import KMeans\n",
    "C = np.array([A1,B1,C1])\n",
    "kmeans = KMeans(n_clusters=3, init=C, n_init=1)\n",
    "kmeans.fit(X)\n",
    "y_kmeans = kmeans.predict(X)\n",
    "plt.scatter(X[:, 0], X[:, 1], c=y_kmeans, s=50, cmap='viridis')\n",
    "centers = kmeans.cluster_centers_\n",
    "plt.scatter(centers[:, 0], centers[:, 1], c='black', s=200, alpha=0.25);\n"
   ]
  },
  {
   "cell_type": "markdown",
   "metadata": {},
   "source": [
    "## Problem 10.6 (12pts)\n",
    "__Both _k-means_ and _k-medoids_ algorithms can perform effective clustering.__\n",
    "\n",
    "__(a) Illustrate the strength and weakness of _k-means_ in comparison with _k-medoids_ __"
   ]
  },
  {
   "cell_type": "markdown",
   "metadata": {},
   "source": [
    "The biggest problem that K-Means has as compared with k-mediods is its sensitivity to the initialzation of the centroids. It is quite possible for convergence to occur and to find local optimizations while a global optimization is compeltely off. An example of this might be if multiple centroids were initilalized particularly close to each other, they may not move sufficently to capture the overall structure of the data. While not directly in answer to this question, many implementations attempt to minimize this affect by running the algorithm multiple times, with multiple random initializations to attempt to obtain a final clustering that is as accurate as possible givne the selected value of $k$. K-means has advantages over k-mediod with respect to lower computational complexity and a generaly quicker convergence.\n",
    "\n",
    "By contrast, k-mediod uses actual data points for the centroids, and attempst to minimize the cost function across the entire graph as it selects different candidate centroids. This allows for/accounts for the scenario wherein the initialization happened to select two very close to each other, they will more freely diverge to match the structure of the data (vs. being bound to the central location of those nodes grouped based on initial location)\n",
    "\n"
   ]
  },
  {
   "cell_type": "markdown",
   "metadata": {},
   "source": [
    "__(b) Illustrate the strength and weakness of these schemes in comparison with a hierarchical clustering scheme (e.g., AGNES)__"
   ]
  },
  {
   "cell_type": "markdown",
   "metadata": {
    "collapsed": true
   },
   "source": [
    "One example is clustering the similarity of the textual content of documents. Rather than simply clustering a collection of documents as similar or dissimilar, it is often quite helpful to cluster them in such as means as to convey _relative_ distance/dissimilarity. We often use a hierarchical clustering approach and visualize the results in a dendrogram. This allows us to, say, communicate that while this large group of documents are, say, 30% similar, we can then sub-divide into groups that are 80% similar, and maybe inidividual leaf documents that are not 80% similar to any other documents in the set"
   ]
  },
  {
   "cell_type": "markdown",
   "metadata": {},
   "source": [
    "## Problem 10.16 (not `c` or `e`) (16pts)\n",
    "\n",
    "__Describe each of the following clustering algorithms in terms of the following criteria: (1) shapes of clusters that can be determined; (2) input parameters that must be specified; and (3) limitations.__"
   ]
  },
  {
   "cell_type": "markdown",
   "metadata": {},
   "source": [
    "__(a) k-means__\n",
    "\n",
    "1. Shapes: blobs, or generally circles from a central point\n",
    "2. Input: Number of clusters you desire to create (may not be optimal/match the data), distance function\n",
    "3. Limitations: sensitive to outliers, sensitive to initialization values"
   ]
  },
  {
   "cell_type": "markdown",
   "metadata": {},
   "source": [
    "__(b) k-medoids__\n",
    "\n",
    "1. Shapes: blobs, or generally circles from a central point\n",
    "2. Input: Number of clusters you desire to create, distance function\n",
    "3. Limitations: high computational complexity, esp. as $N$ grows"
   ]
  },
  {
   "cell_type": "markdown",
   "metadata": {},
   "source": [
    "__(d) BIRCH__\n",
    "\n",
    "1. Shapes: hierarchy (tree), dendrogram, spherical\n",
    "2. Input: clustering feature (CF), distance function\n",
    "3. Limitations: doesn't handle non-spherical data well, may not represent a 'natural' cluster well"
   ]
  },
  {
   "cell_type": "markdown",
   "metadata": {},
   "source": [
    "__(f) DBSCAN__\n",
    "\n",
    "1. Shapes: Arbitrary (based on density\n",
    "2. Input: maximum radius from one node to those in it's neighborhood (density-reachable), minimum points (density threshold of dense regions), distance function\n",
    "3. Limitations: Not entirely deterministic (some nodes could be members of multiple clusters and the answer may vary based on initialization), densities of clusters must be similar."
   ]
  },
  {
   "cell_type": "markdown",
   "metadata": {},
   "source": [
    "## Problem 11.1 (15pts)\n",
    "\n",
    "Traditional clustering methods are rigid in that they require each object to belong exclusively to only one cluster. Explain why this is a special case of fuzzy clustering. You may use k-means as an example."
   ]
  },
  {
   "cell_type": "markdown",
   "metadata": {},
   "source": [
    "Fuzzy clustering uses probability calculations to determine the liklihood of each data elements membership in a given cluster. The text describes k-means as a special-case example of this in two ways.\n",
    "\n",
    "1. In some data scenarios, a given data element may be equidistant from two different centroids. As such the element could equally be in either and which it is assigned to is determined by external logic (not inherent to the algorithim\n",
    "\n",
    "2. The text defined k-means as an example of expectation maximization by splitting viewing the clusering approach in the two steps.\n",
    "  1. __Expectation__ step is, given a set of centroids, the elements are assigned to one of the clusters based on their relative proximity to each.\n",
    "  2. Each cluster is then __maximized__ by re-centering the centroid (center point of the cluster) based on the members of that cluster. Steps 1 & 2 are repeated until cluster memberships converge."
   ]
  },
  {
   "cell_type": "markdown",
   "metadata": {},
   "source": [
    "## Problem 12.1 (15pts)\n",
    "\n",
    "Give an application example where global outliers, contextual outliers, and collective outliers are all interesting. What are the attributes, and what are the contextual and behavioral attributes? How is the relationship among objects modeled in collective outlier detection?"
   ]
  },
  {
   "cell_type": "markdown",
   "metadata": {},
   "source": [
    "The resume data processing application I am working on for this class fits this description.\n",
    "\n",
    "From the global vantage point, resumes that are not connected to any others are, both outliers and quite interesting (why aren't they connected? are the schools/references fake? etc.)\n",
    "\n",
    "Contextually, resumes that "
   ]
  },
  {
   "cell_type": "markdown",
   "metadata": {},
   "source": [
    "## Additional Problem 1 (15 points)\n",
    "__Briefly outline how to compute the dissimilarity between objects described by the following\n",
    "types of variables__\n",
    "\n",
    "__a. Asymmetric binary variables__\n"
   ]
  },
  {
   "cell_type": "markdown",
   "metadata": {
    "collapsed": true
   },
   "source": [
    "> Nominal attributes with only two possible states (e.g. 1/0 or True/False). Asymmetry indicates that they are _not_ equally important\n",
    "\n",
    "The asymmetric nature changes the default equation for binary difference by removing the parameter from the denominator that represents the number of `Zero` (False) cases ($t$). This results in an equation for disstance/dissimilarity that looks like the following:\n",
    "\n",
    "$$d(i,j) = \\frac{r+s}{q+r+s}$$\n",
    "\n",
    "This is effectively the same as 1 - the Jaccard coefficient which can be expressed as follows:\n",
    "\n",
    "$$ sim(i,j) = \\frac{q}{q=r+s} = 1 - d(i,j) $$\n",
    "    "
   ]
  },
  {
   "cell_type": "markdown",
   "metadata": {},
   "source": [
    "__b. Nominal variables__"
   ]
  },
  {
   "cell_type": "markdown",
   "metadata": {
    "collapsed": true
   },
   "source": [
    "> Variables that are categorical, or use symbols or names of things wherein each value represents some kind of category, code, or state\n",
    "\n",
    "There are a couple of different ways in which this can be calculated.\n",
    "\n",
    "1. Utilze a dissimilarity matrix. \n",
    "2. Represent the categories in alternate form (e.g. conversion to integers) and then use numerical techniques 9described below)\n",
    "3. Utilize an alternate encoding scheme such as a flag of bits and then treat each bit as an asymmetric binary variable as described in A above.\n"
   ]
  },
  {
   "cell_type": "markdown",
   "metadata": {},
   "source": [
    "__c. Numerical (interval-scaled) variables__"
   ]
  },
  {
   "cell_type": "markdown",
   "metadata": {
    "collapsed": true
   },
   "source": [
    "> Quantitative (measurable quantity) represented in integer or real values. _Interval-scaled_ indicates the measurements are in fixed and equal units\n",
    "\n",
    "Numerical values are the easiest to use for computing distance as the distance expression fits with normal intuition. There are a number of means of representing the distance (dissimilarity) between two numeric points inlcuding the commong Euclidean, Manhattan, and Minkowski (the generic version that boasts Euclidean and Manhattan as variants) formulas."
   ]
  },
  {
   "cell_type": "markdown",
   "metadata": {},
   "source": [
    "## Additional Problem 2 (15 points)\n",
    "__Given two objects represented by the tuples `(22, 1, 42, 10)` and `(20, 0, 36, 8)`__\n",
    "\n",
    "__a. Compute the Euclidean distance between the two objects__"
   ]
  },
  {
   "cell_type": "code",
   "execution_count": 33,
   "metadata": {},
   "outputs": [
    {
     "data": {
      "text/plain": [
       "6.708203932499369"
      ]
     },
     "execution_count": 33,
     "metadata": {},
     "output_type": "execute_result"
    }
   ],
   "source": [
    "import math\n",
    "a = np.array((22, 1, 42, 10))\n",
    "b = np.array((20, 0, 36, 8))\n",
    "\n",
    "# manual approach\n",
    "dist = math.sqrt((b[0]-a[0])**2 + (b[1]-a[1])**2 + (b[2]-a[2])**2 + (b[3]-a[3])**2)\n",
    "dist"
   ]
  },
  {
   "cell_type": "code",
   "execution_count": 34,
   "metadata": {},
   "outputs": [
    {
     "data": {
      "text/plain": [
       "6.7082039324993694"
      ]
     },
     "execution_count": 34,
     "metadata": {},
     "output_type": "execute_result"
    }
   ],
   "source": [
    "# numpy approach\n",
    "dist = np.linalg.norm(a - b)\n",
    "dist"
   ]
  },
  {
   "cell_type": "code",
   "execution_count": 35,
   "metadata": {},
   "outputs": [
    {
     "data": {
      "text/plain": [
       "6.7082039324993694"
      ]
     },
     "execution_count": 35,
     "metadata": {},
     "output_type": "execute_result"
    }
   ],
   "source": [
    "# scipy approach\n",
    "dist = scipy.spatial.distance.euclidean(a, b)\n",
    "dist"
   ]
  },
  {
   "cell_type": "markdown",
   "metadata": {
    "collapsed": true
   },
   "source": [
    "__b. Compute the Manhattan distance between the two objects.__"
   ]
  },
  {
   "cell_type": "code",
   "execution_count": 38,
   "metadata": {},
   "outputs": [
    {
     "data": {
      "text/plain": [
       "11"
      ]
     },
     "execution_count": 38,
     "metadata": {},
     "output_type": "execute_result"
    }
   ],
   "source": [
    "# manual approach\n",
    "man_dist = abs(a[0] - b[0]) + abs(a[1] - b[1]) + abs(a[2] - b[2]) + abs(a[3] - b[3])\n",
    "man_dist"
   ]
  },
  {
   "cell_type": "code",
   "execution_count": 39,
   "metadata": {},
   "outputs": [
    {
     "data": {
      "text/plain": [
       "11"
      ]
     },
     "execution_count": 39,
     "metadata": {},
     "output_type": "execute_result"
    }
   ],
   "source": [
    "# scipy approach\n",
    "man_dist = scipy.spatial.distance.cityblock(a, b)\n",
    "man_dist"
   ]
  },
  {
   "cell_type": "markdown",
   "metadata": {},
   "source": [
    "__c. Compute the Minkowski distance between the two objects, using $q = 3$.__"
   ]
  },
  {
   "cell_type": "code",
   "execution_count": 53,
   "metadata": {},
   "outputs": [
    {
     "data": {
      "text/plain": [
       "6.1534494936636817"
      ]
     },
     "execution_count": 53,
     "metadata": {},
     "output_type": "execute_result"
    }
   ],
   "source": [
    "q=3\n",
    "min_dist = (abs(a[0] - b[0])**q + abs(a[1] - b[1])**q + abs(a[2] - b[2])**q + abs(a[3] - b[3])**q)**(1/float(q))\n",
    "min_dist"
   ]
  },
  {
   "cell_type": "code",
   "execution_count": 41,
   "metadata": {},
   "outputs": [
    {
     "data": {
      "text/plain": [
       "6.1534494936636817"
      ]
     },
     "execution_count": 41,
     "metadata": {},
     "output_type": "execute_result"
    }
   ],
   "source": [
    "# scipy approach\n",
    "min_dist = scipy.spatial.distance.minkowski(a, b, p=3)\n",
    "min_dist"
   ]
  },
  {
   "cell_type": "code",
   "execution_count": null,
   "metadata": {
    "collapsed": true
   },
   "outputs": [],
   "source": []
  }
 ],
 "metadata": {
  "kernelspec": {
   "display_name": "Python 2",
   "language": "python",
   "name": "python2"
  },
  "language_info": {
   "codemirror_mode": {
    "name": "ipython",
    "version": 2
   },
   "file_extension": ".py",
   "mimetype": "text/x-python",
   "name": "python",
   "nbconvert_exporter": "python",
   "pygments_lexer": "ipython2",
   "version": "2.7.14"
  }
 },
 "nbformat": 4,
 "nbformat_minor": 1
}
