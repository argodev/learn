{
 "cells": [
  {
   "cell_type": "markdown",
   "metadata": {},
   "source": [
    "# CSC 6220 Homework 1\n",
    "#### Rob Gillen, T00215814"
   ]
  },
  {
   "cell_type": "code",
   "execution_count": 54,
   "metadata": {},
   "outputs": [],
   "source": [
    "# setup some things for subsequent computations\n",
    "%matplotlib inline\n",
    "\n",
    "import math\n",
    "import matplotlib\n",
    "import numpy as np\n",
    "import scipy.spatial\n",
    "import scipy.stats\n",
    "import matplotlib.pyplot as plt"
   ]
  },
  {
   "cell_type": "markdown",
   "metadata": {},
   "source": [
    "## Problem 1.7 (15pts)\n",
    "\n",
    "__Outliers are often discarded as noise. However, one person's garbage could be another's treasure. For example, exceptions in credit card transactions can help us detect the fraudulent use of credit cards. Using fraudulence detection as an example, propose two methods that can be used to detect outliers and discuss which one is more reliable.__"
   ]
  },
  {
   "cell_type": "code",
   "execution_count": null,
   "metadata": {},
   "outputs": [],
   "source": []
  },
  {
   "cell_type": "markdown",
   "metadata": {},
   "source": [
    "## Problem 1.9 (10pts)\n",
    "\n",
    "__What are the major challenges of mining a huge amount of data (e.g., billions of tuples) in comparison with mining a small amount of data (e.g. data set of a few hundred tuples)?__"
   ]
  },
  {
   "cell_type": "code",
   "execution_count": null,
   "metadata": {},
   "outputs": [],
   "source": []
  },
  {
   "cell_type": "markdown",
   "metadata": {},
   "source": [
    "## Problem 2.2 (not g) (30pts)\n",
    "\n",
    "__Suppose that the data for analysis includes the attribute age__\n"
   ]
  },
  {
   "cell_type": "markdown",
   "metadata": {},
   "source": [
    "__a.1 What is the mean of the data? What is the median?__"
   ]
  },
  {
   "cell_type": "markdown",
   "metadata": {},
   "source": [
    "Mean is the average, or central value\n",
    "$$ \\bar{x} = \\frac{1}{n}\\left(\\sum\\limits_{i=1}^n x_i\\right)$$"
   ]
  },
  {
   "cell_type": "code",
   "execution_count": 16,
   "metadata": {},
   "outputs": [
    {
     "name": "stdout",
     "output_type": "stream",
     "text": [
      "29.962962963\n"
     ]
    }
   ],
   "source": [
    "ages = [13, 15, 16, 16, 19, 20, 20, 21, 22, 22, 25, 25, 25, 25, 30, 33, 33, 35, 35, 35, 35, 36, 40, 45, 46, 52, 70]\n",
    "mean = sum(ages)/float(len(ages))\n",
    "print(mean)"
   ]
  },
  {
   "cell_type": "code",
   "execution_count": 51,
   "metadata": {},
   "outputs": [
    {
     "name": "stdout",
     "output_type": "stream",
     "text": [
      "29.962962963\n"
     ]
    }
   ],
   "source": [
    "# compare using the built-in function\n",
    "mean = np.mean(ages)\n",
    "print(mean)"
   ]
  },
  {
   "cell_type": "markdown",
   "metadata": {},
   "source": [
    "__a.2 What is the median?__"
   ]
  },
  {
   "cell_type": "code",
   "execution_count": 17,
   "metadata": {},
   "outputs": [
    {
     "name": "stdout",
     "output_type": "stream",
     "text": [
      "25\n"
     ]
    }
   ],
   "source": [
    "# Median is the middle number\n",
    "ages.sort()\n",
    "median = ages[len(ages)/2]  # works well due to length being odd\n",
    "print(median)"
   ]
  },
  {
   "cell_type": "code",
   "execution_count": 52,
   "metadata": {},
   "outputs": [
    {
     "name": "stdout",
     "output_type": "stream",
     "text": [
      "25.0\n"
     ]
    }
   ],
   "source": [
    "# compare using the built-in function\n",
    "median = np.median(ages)\n",
    "print(median)"
   ]
  },
  {
   "cell_type": "markdown",
   "metadata": {},
   "source": [
    "__b. What is the mode of the data? Comment on the data's modality (i.e., bimodal, trimodal, etc.)__"
   ]
  },
  {
   "cell_type": "code",
   "execution_count": 18,
   "metadata": {},
   "outputs": [
    {
     "name": "stdout",
     "output_type": "stream",
     "text": [
      "33 - 2\n",
      "45 - 1\n",
      "35 - 4\n",
      "36 - 1\n",
      "70 - 1\n",
      "40 - 1\n",
      "13 - 1\n",
      "46 - 1\n",
      "15 - 1\n",
      "16 - 2\n",
      "19 - 1\n",
      "20 - 2\n",
      "21 - 1\n",
      "22 - 2\n",
      "25 - 4\n",
      "30 - 1\n",
      "52 - 1\n"
     ]
    }
   ],
   "source": [
    "# Mode is the most frequent value in the data\n",
    "distinct_ages = set(ages)\n",
    "for distinct_age in distinct_ages:\n",
    "    print \"{0} - {1}\".format(distinct_age, ages.count(distinct_age))"
   ]
  },
  {
   "cell_type": "code",
   "execution_count": 55,
   "metadata": {},
   "outputs": [
    {
     "name": "stdout",
     "output_type": "stream",
     "text": [
      "ModeResult(mode=array([25]), count=array([4]))\n"
     ]
    }
   ],
   "source": [
    "# compare with the built-in function\n",
    "# NOTE: The documentation states that it does not handle multi-modal data\n",
    "# in the case of multiple modes, it returns the lowest\n",
    "mode = scipy.stats.mode(ages)\n",
    "print(mode)"
   ]
  },
  {
   "cell_type": "markdown",
   "metadata": {},
   "source": [
    "It is seen that the data is _bi-modal_ with values `25` and `35` occuring 4 times each."
   ]
  },
  {
   "cell_type": "markdown",
   "metadata": {},
   "source": [
    "__c. What is the midrange of the data?__"
   ]
  },
  {
   "cell_type": "code",
   "execution_count": 19,
   "metadata": {},
   "outputs": [
    {
     "name": "stdout",
     "output_type": "stream",
     "text": [
      "41\n"
     ]
    }
   ],
   "source": [
    "# Midrange is the average of the largest and smallest values in the set\n",
    "midrange = (min(ages) + max(ages))/2\n",
    "print(midrange)"
   ]
  },
  {
   "cell_type": "markdown",
   "metadata": {},
   "source": [
    "__d. Can you find (roughly) the first quartile ($Q_1$) and the third quartile ($Q_3$) of the data?__"
   ]
  },
  {
   "cell_type": "code",
   "execution_count": 59,
   "metadata": {},
   "outputs": [
    {
     "name": "stdout",
     "output_type": "stream",
     "text": [
      "20\n"
     ]
    }
   ],
   "source": [
    "q_1 = ages[len(ages)/4]\n",
    "print(q_1)"
   ]
  },
  {
   "cell_type": "code",
   "execution_count": 21,
   "metadata": {},
   "outputs": [
    {
     "name": "stdout",
     "output_type": "stream",
     "text": [
      "35\n"
     ]
    }
   ],
   "source": [
    "q_3 = ages[(len(ages)/4)*3]\n",
    "print(q_3)"
   ]
  },
  {
   "cell_type": "code",
   "execution_count": 57,
   "metadata": {},
   "outputs": [
    {
     "name": "stdout",
     "output_type": "stream",
     "text": [
      "20.5\n"
     ]
    }
   ],
   "source": [
    "# compare using the built-in function\n",
    "q_1 = np.percentile(ages, 25)\n",
    "print(q_1)"
   ]
  },
  {
   "cell_type": "markdown",
   "metadata": {},
   "source": [
    "__e. Give the five-number summary of the data__"
   ]
  },
  {
   "cell_type": "markdown",
   "metadata": {},
   "source": [
    "The _five number summary_ of the data is the minimum, $Q_1$, median, $Q_3$, and maximum. For this data set, the five-number summary is:"
   ]
  },
  {
   "cell_type": "code",
   "execution_count": 35,
   "metadata": {},
   "outputs": [
    {
     "data": {
      "text/plain": [
       "(13, 20, 25, 35, 70)"
      ]
     },
     "execution_count": 35,
     "metadata": {},
     "output_type": "execute_result"
    }
   ],
   "source": [
    "13, 20, 25, 35, 70"
   ]
  },
  {
   "cell_type": "markdown",
   "metadata": {},
   "source": [
    "__f. Show a boxplot of the data__"
   ]
  },
  {
   "cell_type": "code",
   "execution_count": 36,
   "metadata": {},
   "outputs": [
    {
     "data": {
      "text/plain": [
       "{'boxes': [<matplotlib.lines.Line2D at 0x7f4a12af4e50>],\n",
       " 'caps': [<matplotlib.lines.Line2D at 0x7f4a12a8a950>,\n",
       "  <matplotlib.lines.Line2D at 0x7f4a12a8ad90>],\n",
       " 'fliers': [<matplotlib.lines.Line2D at 0x7f4a12a9b650>],\n",
       " 'means': [],\n",
       " 'medians': [<matplotlib.lines.Line2D at 0x7f4a12a9b210>],\n",
       " 'whiskers': [<matplotlib.lines.Line2D at 0x7f4a12af4fd0>,\n",
       "  <matplotlib.lines.Line2D at 0x7f4a12a8a510>]}"
      ]
     },
     "execution_count": 36,
     "metadata": {},
     "output_type": "execute_result"
    },
    {
     "data": {
      "image/png": "[encoded data removed]",
      "text/plain": [
       "<matplotlib.figure.Figure at 0x7f4a12b3e910>"
      ]
     },
     "metadata": {},
     "output_type": "display_data"
    }
   ],
   "source": [
    "plt.boxplot(ages)"
   ]
  },
  {
   "cell_type": "markdown",
   "metadata": {},
   "source": [
    "## Problem 2.6 (not d) (15pts)\n",
    "\n",
    "__Given two objects represented by the tuples (`22`, `1`, `42`, `10`) and (`20`, `0`, `36`, `8`):__"
   ]
  },
  {
   "cell_type": "code",
   "execution_count": 26,
   "metadata": {},
   "outputs": [],
   "source": [
    "set_a = [22, 1, 42, 10]\n",
    "set_b = [20, 0, 36, 8]"
   ]
  },
  {
   "cell_type": "markdown",
   "metadata": {},
   "source": [
    "__a. Compute the Euclidean distance between the two objects__"
   ]
  },
  {
   "cell_type": "markdown",
   "metadata": {},
   "source": [
    "$$d(i,j) = \\sqrt{(x_{1i} - x_{1j})^2 + (x_{2i} - x_{2j})^2 + ... + (x_{pi} - x_{pj})^2}$$"
   ]
  },
  {
   "cell_type": "code",
   "execution_count": 39,
   "metadata": {},
   "outputs": [
    {
     "name": "stdout",
     "output_type": "stream",
     "text": [
      "6.7082039325\n"
     ]
    }
   ],
   "source": [
    "sums = 0\n",
    "for x in range(len(set_a)):\n",
    "    sums += (set_a[x] - set_b[x])**2\n",
    "distance = np.sqrt(sums)\n",
    "print(distance)"
   ]
  },
  {
   "cell_type": "code",
   "execution_count": 47,
   "metadata": {},
   "outputs": [
    {
     "name": "stdout",
     "output_type": "stream",
     "text": [
      "6.7082039325\n"
     ]
    }
   ],
   "source": [
    "# compare using the built-in function\n",
    "distance = scipy.spatial.distance.euclidean(set_a, set_b)\n",
    "print(distance)"
   ]
  },
  {
   "cell_type": "markdown",
   "metadata": {},
   "source": [
    "__b. Compute the Manhattan distance between the two objects__"
   ]
  },
  {
   "cell_type": "markdown",
   "metadata": {},
   "source": [
    "$$d(i,j) = |x_{1i} - x_{1j}| + |x_{2i} - x_{2j}| + ... + |x_{pi} - x_{pj}|$$"
   ]
  },
  {
   "cell_type": "code",
   "execution_count": 34,
   "metadata": {},
   "outputs": [
    {
     "name": "stdout",
     "output_type": "stream",
     "text": [
      "11.0\n"
     ]
    }
   ],
   "source": [
    "distance = 0\n",
    "for x in range(len(set_a)):\n",
    "    distance += math.fabs(set_a[x] - set_b[x])\n",
    "print(distance)"
   ]
  },
  {
   "cell_type": "code",
   "execution_count": 48,
   "metadata": {},
   "outputs": [
    {
     "name": "stdout",
     "output_type": "stream",
     "text": [
      "11\n"
     ]
    }
   ],
   "source": [
    "# compare using the built-in function\n",
    "distance = scipy.spatial.distance.cityblock(set_a, set_b)\n",
    "print(distance)"
   ]
  },
  {
   "cell_type": "markdown",
   "metadata": {},
   "source": [
    "__c. Compute the Minkowski distance between the two objects, using q=3.__"
   ]
  },
  {
   "cell_type": "markdown",
   "metadata": {},
   "source": [
    "$$d(i,j) = \\sqrt[h]{|x_{1i} - x_{1j}|^h + |x_{2i} - x_{2j}|^h + ... + |x_{pi} - x_{pj}|^h}$$"
   ]
  },
  {
   "cell_type": "code",
   "execution_count": 38,
   "metadata": {},
   "outputs": [
    {
     "name": "stdout",
     "output_type": "stream",
     "text": [
      "6.15344949366\n"
     ]
    }
   ],
   "source": [
    "sums = 0\n",
    "for x in range(len(set_a)):\n",
    "    sums += math.fabs(set_a[x] - set_b[x])**3\n",
    "distance = np.cbrt(sums)\n",
    "print(distance)"
   ]
  },
  {
   "cell_type": "code",
   "execution_count": 50,
   "metadata": {},
   "outputs": [
    {
     "name": "stdout",
     "output_type": "stream",
     "text": [
      "6.15344949366\n"
     ]
    }
   ],
   "source": [
    "# compare using the built-in function\n",
    "distance = scipy.spatial.distance.minkowski(set_a, set_b, 3)\n",
    "print(distance)"
   ]
  },
  {
   "cell_type": "markdown",
   "metadata": {},
   "source": [
    "## Problem 3.2 (10pts)\n",
    "\n",
    "__In real-world data, tuples with missing values for some attributes are a common occurrence. Discribe various methods for handling this problem.__"
   ]
  },
  {
   "cell_type": "code",
   "execution_count": null,
   "metadata": {},
   "outputs": [],
   "source": []
  },
  {
   "cell_type": "markdown",
   "metadata": {},
   "source": [
    "## Problem 3.7 (20pts)\n",
    "\n",
    "__Using the data for age given in Exercise 3.3 answer the following:__"
   ]
  },
  {
   "cell_type": "markdown",
   "metadata": {},
   "source": [
    "__a. Use min-max normalization to transform the value 35 for age onto the range [0.0, 1.0].__"
   ]
  },
  {
   "cell_type": "markdown",
   "metadata": {},
   "source": [
    "$$v'_i = \\frac{v_i - min_A}{max_A-min_A}(newMax_A - newMin_A) + newMin_A$$"
   ]
  },
  {
   "cell_type": "code",
   "execution_count": 66,
   "metadata": {},
   "outputs": [
    {
     "name": "stdout",
     "output_type": "stream",
     "text": [
      "0.385964912281\n"
     ]
    }
   ],
   "source": [
    "v_prime = (((35-min(ages))/float((max(ages)-min(ages))))*(1.0-0.0)) + 0.0\n",
    "\n",
    "print(v_prime)"
   ]
  },
  {
   "cell_type": "markdown",
   "metadata": {},
   "source": [
    "__b. Use z-score normalization to transform the value 35 for age, where the standard deviation of age is 12.94 years.__"
   ]
  },
  {
   "cell_type": "markdown",
   "metadata": {},
   "source": [
    "$$v'_i=\\frac{v_i-\\bar{A}}{\\sigma_A}$$\n",
    "\n",
    "where $\\bar{A}$ is the mean of the set and $\\sigma_A$ is the standard deviation"
   ]
  },
  {
   "cell_type": "code",
   "execution_count": 68,
   "metadata": {},
   "outputs": [
    {
     "name": "stdout",
     "output_type": "stream",
     "text": [
      "0.389260976587\n"
     ]
    }
   ],
   "source": [
    "v_prime = (35-np.mean(ages))/12.94\n",
    "print(v_prime)"
   ]
  },
  {
   "cell_type": "markdown",
   "metadata": {},
   "source": [
    "__c. Use normalization by decimal scaling to transform the value 35 for age.__"
   ]
  },
  {
   "cell_type": "markdown",
   "metadata": {},
   "source": [
    "$$v'_i=\\frac{v_i}{10^j}$$\n",
    "\n",
    "where $j$ is the smallest integer such that $max(\\lvert v'_i\\rvert)<1$"
   ]
  },
  {
   "cell_type": "code",
   "execution_count": 70,
   "metadata": {},
   "outputs": [
    {
     "name": "stdout",
     "output_type": "stream",
     "text": [
      "0.35\n"
     ]
    }
   ],
   "source": [
    "v_prime = 35/float(10**2)\n",
    "print(v_prime)"
   ]
  },
  {
   "cell_type": "markdown",
   "metadata": {},
   "source": [
    "__d. Comment on which method you would prefer to use for the given data, giving reasons as to why.__"
   ]
  },
  {
   "cell_type": "markdown",
   "metadata": {},
   "source": [
    "I think that, given the data sets, I would lean towards either _min-max_ or _z-score_, but would probably settle on _z-score_. _Decimal scaling_ works, but doesn't seem to appropriately scale the values across the available number space (0.0-1.0). Both _min-max_ and _z-score_ spread the values across the data range with better respect to the distribution of the initial values. In this scenario, however, since `70` is a lone outliner, using the standard deviation in the equation pulls the values a bit to the right, reducing its impact."
   ]
  },
  {
   "cell_type": "code",
   "execution_count": null,
   "metadata": {},
   "outputs": [],
   "source": []
  }
 ],
 "metadata": {
  "kernelspec": {
   "display_name": "Python 2",
   "language": "python",
   "name": "python2"
  },
  "language_info": {
   "codemirror_mode": {
    "name": "ipython",
    "version": 2
   },
   "file_extension": ".py",
   "mimetype": "text/x-python",
   "name": "python",
   "nbconvert_exporter": "python",
   "pygments_lexer": "ipython2",
   "version": "2.7.14"
  }
 },
 "nbformat": 4,
 "nbformat_minor": 2
}
