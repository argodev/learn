{
 "cells": [
  {
   "cell_type": "markdown",
   "metadata": {},
   "source": [
    "# CSC 6220 Homework 2\n",
    "#### Rob Gillen, T00215814"
   ]
  },
  {
   "cell_type": "code",
   "execution_count": 2,
   "metadata": {},
   "outputs": [],
   "source": [
    "# setup some things for subsequent computations\n",
    "%matplotlib inline\n",
    "\n",
    "import math\n",
    "import matplotlib\n",
    "import numpy as np\n",
    "import scipy.spatial\n",
    "import scipy.stats\n",
    "import matplotlib.pyplot as plt"
   ]
  },
  {
   "cell_type": "markdown",
   "metadata": {},
   "source": [
    "## Problem 6.6 (20pts)\n",
    "\n",
    "__A database has five transactions. Let $minSup=60\\%$ and $minConf = 80\\%$__\n",
    "\n",
    "|TID|items_bought|\n",
    "|---|:-----------|\n",
    "|T100 |{M, O, N, K, E, Y}|\n",
    "|T200 |{D, O, N, K, E, Y}|\n",
    "|T300 |{M, A, K, E}|\n",
    "|T400 |{M, U, C, K, Y}|\n",
    "|T500 |{C, O, O, K, I, E}|\n",
    "\n",
    "\n",
    "\n",
    "__(a) Find all frequent itemsets using Apriori and FP-Growth, respectively. Compare the efficiency of the two mining processes.__\n"
   ]
  },
  {
   "cell_type": "markdown",
   "metadata": {},
   "source": [
    "Given there are 5 transactions, minSup of 60% requires at least 3 instances\n",
    "\n",
    "> NOTE: APriori and FP-growth are used for identifying frequent itemsets. Support isn't taken into account until strong rules are identified.\n",
    "\n",
    "\n",
    "### Apriori\n",
    "- Get frequent 1-Item Sets\n",
    "  - {M=3,O=3,K=5,E=4,Y=3}\n",
    "- Generate Candidate Sets $k+1$ for $k=2$\n",
    "  - {[M,O], [M,K], [M,E], [M,Y], [O,K], [O,E], [O,Y], [K,E], [K,Y], [E,Y]}\n",
    "- Test against the database\n",
    "  - {[M,K]=3, [O,K]=3, [O,E]=3, [K,E]=4, [K,Y]=3}\n",
    "- Build Candidate Sets $k+1$ for $k=3$ (apply apriori rule)\n",
    "  - [M,O,K], [M,O,E] are eliminated due to Apriori (M,O is not frequent)\n",
    "  - [M,K,E] is eliminated due to Apriori (M,E is not frequent)\n",
    "  - [O,K,Y] is eliminated due to Apriori (O,Y is not frequent)\n",
    "  - {[M,K,Y], [O,K,E], [E,K,Y]} are valid candidates.\n",
    "- Test against the database\n",
    "  - {[O,K,E]=3}\n",
    "- No additional frequent sets\n",
    "\n",
    "\n",
    "\n",
    "### FP-Growth\n",
    "- Scan the database once, find frequent 1-itemset and sort by most frequent & alphabetical\n",
    "\n",
    "| Item | Frequency |\n",
    "|:--:|:--:|\n",
    "|K|5|\n",
    "|E|4|\n",
    "|M|3|\n",
    "|O|3|\n",
    "|Y|3|\n",
    "\n",
    "- Scan the database again, build the FP Tree\n",
    "\n",
    "```\n",
    "{}\n",
    "|\n",
    "K (5)\n",
    "|-----------------|\n",
    "E (4)             M (1)\n",
    "|--------|        |\n",
    "M (2)    O (2)    Y (1)\n",
    "|        |\n",
    "O (1)    Y (1)\n",
    "|\n",
    "Y (1)\n",
    "\n",
    "```\n",
    "\n",
    "- From the tree, calculate the frequent patterns for:\n",
    "  - $k=2$\n",
    "    - {K,E} : 4\n",
    "    - {K,M} : 3\n",
    "    - {K,O} : 3\n",
    "    - {K,Y} : 3\n",
    "    - {E,O} : 3\n",
    "  - $k=3$\n",
    "    - {K,E,O} : 3\n",
    "\n",
    "### Efficiency\n",
    "As expected, the FP-Growth approach requires far fewer crawls through the database (scans) and requires less overall memory as it avoides the building of multiple candidate sets. The negative with FP-growth is that calculating itemsets of various lengths of $k$ is slightly more complex. \n"
   ]
  },
  {
   "cell_type": "markdown",
   "metadata": {},
   "source": [
    "__(b) List all the _strong_ association rules (with support $s$ and confidence $c$) matching the following metarule, where $X$ is a variable representing customers, and $item_i$ denotes variables representing items (e.g. \"A\", \"B\"):__\n",
    "\n",
    "$$\\forall x \\in transaction, buys(X, item_1) \\wedge buys(X, item_2) \\implies buys(X, item_3) [s, c]$$"
   ]
  },
  {
   "cell_type": "markdown",
   "metadata": {},
   "source": [
    "The definition of this particular metarule requires frequent itemsets of length = 3. We only have one such rule {K, E, O} so the only possible rules are as follows:\n",
    "```\n",
    "K, E => O (60%, 75%)\n",
    "K, O => E (60%, 100%)\n",
    "E, O => K (60%, 100%)\n",
    "```\n",
    "\n",
    "Based on the stipulations above (definition of strong association rules as having confidence of 80%), the only rules that meet this stipulation are:\n",
    "```\n",
    "K, O => E (60%, 100%)\n",
    "E, O => K (60%, 100%)\n",
    "```"
   ]
  },
  {
   "cell_type": "markdown",
   "metadata": {},
   "source": [
    "## Problem 6.9 (15pts)\n",
    "\n",
    "__Suppose that a large store has a transactional database that is _distributed_ among four locations. Transactions in each component database have the same format, namely $T_j:{i_1,...,i_m}$, where $T_j$ is a transaction identifier, and $i_k(1 \\leq k \\leq m)$ is the identifier of an item purchased in the transaction. Propose an efficient algorithm to mine global association rules. You may present your algorithm in the form of an outline. Your algorithm should not require shipping all the data to one site and shoud not cause excessive network communication overhead.__"
   ]
  },
  {
   "cell_type": "markdown",
   "metadata": {},
   "source": [
    "Assumption 1: the minimum support value is is a percentage of the records (e.g. 25%)\n",
    "\n",
    "Step 1: For each shard, identify the frequent itemsets that meet or exceed the minimum support threshold\n",
    "\n",
    "Step 2: For each shard, ship the frequent itemsets as well as a count of the total transactions to a central node. For each itemset, also include the values needed to calulate the confidence (Count of records where i_1 exists, count of records where i_1 and i_2 exist)\n",
    "\n",
    "Step 3: At the central node, combine the matching frequent itemsets from the indiviudal shards into a single list, summing the support and confidence-determining values when multiple shards have the same frequent itemset. This becomes the global candidate list\n",
    "\n",
    "Step 4: At the central node, sum the total records from each of the nodes and, based on the minimum support %, calculate the global minimum support required (# of records)\n",
    "\n",
    "Step 5: Evaluate the global candidate list eliminating itemsets that do not meet the global minimum required support\n",
    "\n",
    "Step 6: For each entry still in the list, calculate the global confidence value and drop any records that do not meet the minimum global confidence value\n",
    "\n",
    "Step 7: The resulting values are your global strong association rules.\n"
   ]
  },
  {
   "cell_type": "markdown",
   "metadata": {},
   "source": [
    "## Problem 7.7 (not d) (15pts)\n",
    "\n",
    "__The price of each item in a store is non-negative. The store manager is only interested in rules of certain forms, using the constraints given in $(a)-(b)$. For each of the following cases, identify the kinds of _constraints_ they represent and briefly discuss how to mine such association rules using _constraint-based pattern mining._ __\n",
    "\n",
    "\n",
    "| | Rule Constraint | Antimonotonic | Monotonic | Succinct |\n",
    "|--|--|--|--|--|\n",
    "|(a)| $v \\in S$ | no | yes | yes |\n",
    "|(b)| $S \\subseteq V $ | yes | no | yes |\n",
    "\n",
    "__(a) Containing at least one Blu-ray DVD movie:__"
   ]
  },
  {
   "cell_type": "markdown",
   "metadata": {},
   "source": [
    "- \"Contains at least one Blue-Ray\" constraint is __Monotonic__\n",
    "- Also __Succinct__\n",
    "\n",
    "When generating candidate itemsets, any that do not contain at least one blue-ray DVD movie can be eliminated (without testing against the data) due to non-compliance with the constraint."
   ]
  },
  {
   "cell_type": "markdown",
   "metadata": {},
   "source": [
    "__(b) Containing items with a sum of the prices that is less than $150.__"
   ]
  },
  {
   "cell_type": "markdown",
   "metadata": {},
   "source": [
    "- The \"less than $150\" constraint is __Antimonotonic__\n",
    "- It is also __Succinct__\n",
    "\n",
    "When generating candidate itemsets, any set for which the prices are $\\geq$ $150 can immediately be eliminated (without testing against the data) due to its non-conformity with this constraint"
   ]
  },
  {
   "cell_type": "markdown",
   "metadata": {},
   "source": [
    "__(c) Containing one free item and other items with a sum of the prices that is at least $200.__"
   ]
  },
  {
   "cell_type": "markdown",
   "metadata": {},
   "source": [
    "- The \"At least $200\" is __monotonic__\n",
    "\n",
    "When generating candidate itemsets, any set for which the sum of the prices is $ \\lt $ \\$200 can be skipped for evaluation (not tested) due to non-conformity with this rule. Once a frequent itemset is found with prices summing to $ \\geq $ \\$200, the constraint check can be skipped for future candidates that are supersets of that set due to the fact that once obtained, the constraint can never not be obtained regardless of growth."
   ]
  },
  {
   "cell_type": "markdown",
   "metadata": {},
   "source": [
    "## Problem 8.2 (20pts)\n",
    "\n",
    "__Why is _tree pruning_ useful in decision tree induction? What is a drawback of using a separate set of tuples to evaluate pruning?__"
   ]
  },
  {
   "cell_type": "markdown",
   "metadata": {},
   "source": [
    "Tree pruning is a means of removing branches from the tree in an effort to reduce or eliminate overfitting issues. Using statistical methods, the least-reliable branches are removed. This provides runtime performance benfits (smaller, faster) and is often produces a more understandable tree.\n",
    "\n",
    "The drawbacks to using separate/independent sets of tuples to evaluate pruning are the same as using separate test/validation data sets in other methods. It is possible, if the original data were not dissected into training/evaluation sets based on a balanced sampling method, that the tree may well match the training data yet perform poorly on the test/evaluation data. These issues are common/well-known and can be minimized by exercising care when segmenting the data."
   ]
  },
  {
   "cell_type": "markdown",
   "metadata": {},
   "source": [
    "## Problem 8.12 (not the ROC curve) (18pts)\n",
    "\n",
    "__The data tuples of Figure 8.25 are sorted by decreasing probability value, as returned by a classifier. For each tuple, compute the values for the number of true positives (TP), false positives (FP), true negatives (TN), and false negatives (FN). Compute the true positive rate (TPR) and false positive rate (FPR). Plot the ROC curve for the data.__\n",
    "\n",
    "We know that there are a total of 10 tuples and that 5 are positive and 5 are negative.\n",
    "\n",
    "\n",
    "| Tuple # | Class | Probability | TP | FP | TN | FN | TPR | FPR |\n",
    "|----:|:--:|----:|--|--|--|--|--|--|\n",
    "| 1  | P | 0.95 |1|0|5|4|0.2|0|\n",
    "| 2  | N | 0.85 |1|1|4|4|0.2|0.2|\n",
    "| 3  | P | 0.78 |2|1|4|3|0.4|0.2|\n",
    "| 4  | P | 0.66 |3|1|4|2|0.6|0.2|\n",
    "| 5  | N | 0.60 |3|2|3|2|0.6|0.4|\n",
    "| 6  | P | 0.55 |4|2|3|1|0.8|0.4|\n",
    "| 7  | N | 0.53 |4|3|2|1|0.8|0.6|\n",
    "| 8  | N | 0.52 |4|4|1|1|0.8|0.8|\n",
    "| 9  | N | 0.51 |4|5|0|1|0.8|1.0|\n",
    "| 10 | P | 0.40 |5|5|0|0|1.0|1.0|\n"
   ]
  },
  {
   "cell_type": "code",
   "execution_count": 17,
   "metadata": {},
   "outputs": [
    {
     "data": {
      "image/png": "[encoded data removed]",
      "text/plain": [
       "<matplotlib.figure.Figure at 0x4dd9590>"
      ]
     },
     "metadata": {},
     "output_type": "display_data"
    }
   ],
   "source": [
    "# I know that we weren't required to do the ROC curve, but \n",
    "# I've run into it enough that I wanted to ensure I knew how \n",
    "# to generate/plot one. From the results below, this is \n",
    "# a pretty pathetic ROC Curve\n",
    "\n",
    "fpr = [0.0, 0.2, 0.2, 0.2, 0.4, 0.4, 0.6, 0.8, 1.0, 1.0 ]\n",
    "tpr = [0.2, 0.2, 0.4, 0.6, 0.6, 0.8, 0.8, 0.8, 0.8, 1.0 ]\n",
    "\n",
    "# calculate the AUC\n",
    "AUC = 0.\n",
    "for i in range(len(tpr)-1):\n",
    "    AUC += (fpr[i+1]-fpr[i]) * (tpr[i+1]+tpr[i])\n",
    "AUC *= 0.5\n",
    "\n",
    "\n",
    "plt.figure()\n",
    "lw = 2\n",
    "plt.plot(fpr, tpr, color='darkorange',\n",
    "         lw=lw, label='ROC curve (area = %0.2f)' % AUC)\n",
    "plt.plot([0, 1], [0, 1], color='navy', lw=lw, linestyle='--')\n",
    "plt.xlim([0.0, 1.0])\n",
    "plt.ylim([0.0, 1.05])\n",
    "plt.xlabel('False Positive Rate')\n",
    "plt.ylabel('True Positive Rate')\n",
    "plt.title('ROC Curve for model above')\n",
    "plt.legend(loc=\"lower right\")\n",
    "plt.show()"
   ]
  },
  {
   "cell_type": "markdown",
   "metadata": {},
   "source": [
    "## Problem 8.15 (12pts)\n",
    "\n",
    "__What is _boosting_? State why it may improve the accuracy of decision tree induction.__"
   ]
  },
  {
   "cell_type": "markdown",
   "metadata": {
    "collapsed": true
   },
   "source": [
    "Boosting is one of the _ensemble methods_ for increasing classification accuracy. This means there are a number of classifiers that each participate in a voting approach to classification. \n",
    "\n",
    "In general, boosting is made up of a series classifiers each of which perform at least slightly better than random guess (accuracy is > 50%). During the training process, the various classifiers are assigned weights based on their accuracy over prior data tests. This can be combined with varying the weights of the trainign data (eg. AdaBoost) to help the classifiers learn to handle the harder-to-classify data sets. You end up with a collection of classifiers, each voting on the class they thing the new data belongs to, and their votes are tallied based on their respective weights (not all are equal). \n",
    "\n",
    "Regarding Decision Tree Induction, at each decision point, a choice must be made based on some evaluation of the tuple attributes. Boosting/AdaBoost may allow the algorithm to better consider more of the attributes with better results than choosing a single attribute upon which to base the decision (e.g. multivariate splits).\n",
    "\n",
    "\n",
    "Incidently, we use __AdaBoost__ as one of the classifiers in our ORCA project here at ORNL and have been quite successful with it."
   ]
  },
  {
   "cell_type": "code",
   "execution_count": null,
   "metadata": {},
   "outputs": [],
   "source": []
  }
 ],
 "metadata": {
  "kernelspec": {
   "display_name": "Python 2",
   "language": "python",
   "name": "python2"
  },
  "language_info": {
   "codemirror_mode": {
    "name": "ipython",
    "version": 2
   },
   "file_extension": ".py",
   "mimetype": "text/x-python",
   "name": "python",
   "nbconvert_exporter": "python",
   "pygments_lexer": "ipython2",
   "version": "2.7.14"
  }
 },
 "nbformat": 4,
 "nbformat_minor": 1
}
