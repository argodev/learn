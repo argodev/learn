{
 "cells": [
  {
   "cell_type": "code",
   "execution_count": 1,
   "metadata": {},
   "outputs": [],
   "source": [
    "# setup some things for subsequent computations\n",
    "%matplotlib inline\n",
    "\n",
    "import math\n",
    "import matplotlib\n",
    "import numpy as np\n",
    "import scipy.spatial\n",
    "import scipy.stats\n",
    "import matplotlib.pyplot as plt"
   ]
  },
  {
   "cell_type": "code",
   "execution_count": 2,
   "metadata": {},
   "outputs": [],
   "source": [
    "rs = np.random.RandomState(4321)\n",
    "p = 2\n",
    "n = 200\n",
    "py1 = 0.6\n",
    "mean1 = np.r_[1,1.]\n",
    "mean0 = -mean1\n",
    "\n",
    "# These are the parameters learned through maximization from before.\n",
    "w = np.r_[2.45641058, 1.55227045]\n",
    "b = -0.824723538369"
   ]
  },
  {
   "cell_type": "code",
   "execution_count": 3,
   "metadata": {},
   "outputs": [],
   "source": [
    "# Generate some testing data\n",
    "Y = (rs.rand(n) > py1).astype(int)\n",
    "X = np.zeros((n,p))\n",
    "X[Y==0] = rs.multivariate_normal(mean0, np.eye(p), size=(Y==0).sum())\n",
    "X[Y==1] = rs.multivariate_normal(mean1, np.eye(p), size=(Y==1).sum())\n",
    "\n",
    "# This is the model's prediction on the test data.\n",
    "T = 1 / (1. + np.exp(-b-np.dot(X,w)))"
   ]
  },
  {
   "cell_type": "code",
   "execution_count": 4,
   "metadata": {},
   "outputs": [
    {
     "data": {
      "image/png": "[encoded data removed]",
      "text/plain": [
       "<matplotlib.figure.Figure at 0x446d110>"
      ]
     },
     "metadata": {},
     "output_type": "display_data"
    }
   ],
   "source": [
    "thresholds = np.linspace(1,0,101)\n",
    "\n",
    "ROC = np.zeros((101,2))\n",
    "\n",
    "for i in range(101):\n",
    "    t = thresholds[i]\n",
    "\n",
    "    # Classifier / label agree and disagreements for current threshold.\n",
    "    TP_t = np.logical_and( T > t, Y==1 ).sum()\n",
    "    TN_t = np.logical_and( T <=t, Y==0 ).sum()\n",
    "    FP_t = np.logical_and( T > t, Y==0 ).sum()\n",
    "    FN_t = np.logical_and( T <=t, Y==1 ).sum()\n",
    "\n",
    "    # Compute false positive rate for current threshold.\n",
    "    FPR_t = FP_t / float(FP_t + TN_t)\n",
    "    ROC[i,0] = FPR_t\n",
    "\n",
    "    # Compute true  positive rate for current threshold.\n",
    "    TPR_t = TP_t / float(TP_t + FN_t)\n",
    "    ROC[i,1] = TPR_t\n",
    "\n",
    "# Plot the ROC curve.\n",
    "fig = plt.figure(figsize=(6,6))\n",
    "plt.plot(ROC[:,0], ROC[:,1], lw=2)\n",
    "plt.xlim(-0.1,1.1)\n",
    "plt.ylim(-0.1,1.1)\n",
    "plt.xlabel('$FPR(t)$')\n",
    "plt.ylabel('$TPR(t)$')\n",
    "plt.grid()"
   ]
  },
  {
   "cell_type": "code",
   "execution_count": 6,
   "metadata": {},
   "outputs": [],
   "source": [
    "AUC = 0.\n",
    "for i in range(100):\n",
    "    AUC += (ROC[i+1,0]-ROC[i,0]) * (ROC[i+1,1]+ROC[i,1])\n",
    "AUC *= 0.5\n",
    "\n",
    "#plt.title('ROC curve, AUC = %.4f'%AUC)\n"
   ]
  },
  {
   "cell_type": "code",
   "execution_count": 7,
   "metadata": {},
   "outputs": [
    {
     "data": {
      "text/plain": [
       "0.97490449915110355"
      ]
     },
     "execution_count": 7,
     "metadata": {},
     "output_type": "execute_result"
    }
   ],
   "source": [
    "AUC"
   ]
  },
  {
   "cell_type": "code",
   "execution_count": 8,
   "metadata": {},
   "outputs": [
    {
     "data": {
      "text/plain": [
       "array([[ 0.        ,  0.        ],\n",
       "       [ 0.        ,  0.40789474],\n",
       "       [ 0.00806452,  0.5       ],\n",
       "       [ 0.00806452,  0.51315789],\n",
       "       [ 0.00806452,  0.55263158],\n",
       "       [ 0.00806452,  0.55263158],\n",
       "       [ 0.00806452,  0.61842105],\n",
       "       [ 0.00806452,  0.63157895],\n",
       "       [ 0.00806452,  0.64473684],\n",
       "       [ 0.00806452,  0.65789474],\n",
       "       [ 0.00806452,  0.67105263],\n",
       "       [ 0.00806452,  0.67105263],\n",
       "       [ 0.00806452,  0.67105263],\n",
       "       [ 0.00806452,  0.67105263],\n",
       "       [ 0.00806452,  0.67105263],\n",
       "       [ 0.00806452,  0.67105263],\n",
       "       [ 0.01612903,  0.68421053],\n",
       "       [ 0.02419355,  0.69736842],\n",
       "       [ 0.02419355,  0.71052632],\n",
       "       [ 0.02419355,  0.71052632],\n",
       "       [ 0.02419355,  0.71052632],\n",
       "       [ 0.02419355,  0.71052632],\n",
       "       [ 0.02419355,  0.72368421],\n",
       "       [ 0.02419355,  0.72368421],\n",
       "       [ 0.02419355,  0.73684211],\n",
       "       [ 0.02419355,  0.73684211],\n",
       "       [ 0.02419355,  0.75      ],\n",
       "       [ 0.02419355,  0.75      ],\n",
       "       [ 0.02419355,  0.76315789],\n",
       "       [ 0.03225806,  0.76315789],\n",
       "       [ 0.03225806,  0.76315789],\n",
       "       [ 0.03225806,  0.76315789],\n",
       "       [ 0.03225806,  0.76315789],\n",
       "       [ 0.03225806,  0.77631579],\n",
       "       [ 0.03225806,  0.77631579],\n",
       "       [ 0.04032258,  0.77631579],\n",
       "       [ 0.04032258,  0.77631579],\n",
       "       [ 0.04032258,  0.77631579],\n",
       "       [ 0.04032258,  0.78947368],\n",
       "       [ 0.04032258,  0.78947368],\n",
       "       [ 0.04032258,  0.78947368],\n",
       "       [ 0.04032258,  0.80263158],\n",
       "       [ 0.04032258,  0.80263158],\n",
       "       [ 0.04032258,  0.80263158],\n",
       "       [ 0.04032258,  0.80263158],\n",
       "       [ 0.04032258,  0.80263158],\n",
       "       [ 0.04032258,  0.81578947],\n",
       "       [ 0.04032258,  0.82894737],\n",
       "       [ 0.0483871 ,  0.82894737],\n",
       "       [ 0.0483871 ,  0.84210526],\n",
       "       [ 0.05645161,  0.84210526],\n",
       "       [ 0.06451613,  0.84210526],\n",
       "       [ 0.07258065,  0.85526316],\n",
       "       [ 0.07258065,  0.85526316],\n",
       "       [ 0.07258065,  0.85526316],\n",
       "       [ 0.08064516,  0.85526316],\n",
       "       [ 0.08064516,  0.85526316],\n",
       "       [ 0.08064516,  0.85526316],\n",
       "       [ 0.08064516,  0.85526316],\n",
       "       [ 0.08064516,  0.86842105],\n",
       "       [ 0.08064516,  0.86842105],\n",
       "       [ 0.08064516,  0.86842105],\n",
       "       [ 0.08064516,  0.88157895],\n",
       "       [ 0.08064516,  0.90789474],\n",
       "       [ 0.08064516,  0.90789474],\n",
       "       [ 0.09677419,  0.90789474],\n",
       "       [ 0.09677419,  0.90789474],\n",
       "       [ 0.09677419,  0.90789474],\n",
       "       [ 0.09677419,  0.90789474],\n",
       "       [ 0.09677419,  0.90789474],\n",
       "       [ 0.09677419,  0.92105263],\n",
       "       [ 0.09677419,  0.92105263],\n",
       "       [ 0.09677419,  0.94736842],\n",
       "       [ 0.09677419,  0.94736842],\n",
       "       [ 0.09677419,  0.94736842],\n",
       "       [ 0.09677419,  0.94736842],\n",
       "       [ 0.10483871,  0.94736842],\n",
       "       [ 0.10483871,  0.94736842],\n",
       "       [ 0.10483871,  0.94736842],\n",
       "       [ 0.12096774,  0.94736842],\n",
       "       [ 0.12903226,  0.94736842],\n",
       "       [ 0.12903226,  0.94736842],\n",
       "       [ 0.12903226,  0.94736842],\n",
       "       [ 0.13709677,  0.94736842],\n",
       "       [ 0.14516129,  0.97368421],\n",
       "       [ 0.16129032,  0.97368421],\n",
       "       [ 0.16129032,  0.97368421],\n",
       "       [ 0.16935484,  0.97368421],\n",
       "       [ 0.16935484,  0.97368421],\n",
       "       [ 0.16935484,  0.97368421],\n",
       "       [ 0.18548387,  0.98684211],\n",
       "       [ 0.19354839,  0.98684211],\n",
       "       [ 0.19354839,  0.98684211],\n",
       "       [ 0.19354839,  0.98684211],\n",
       "       [ 0.2016129 ,  0.98684211],\n",
       "       [ 0.21774194,  0.98684211],\n",
       "       [ 0.25806452,  1.        ],\n",
       "       [ 0.28225806,  1.        ],\n",
       "       [ 0.35483871,  1.        ],\n",
       "       [ 0.45967742,  1.        ],\n",
       "       [ 1.        ,  1.        ]])"
      ]
     },
     "execution_count": 8,
     "metadata": {},
     "output_type": "execute_result"
    }
   ],
   "source": [
    "ROC"
   ]
  },
  {
   "cell_type": "code",
   "execution_count": 9,
   "metadata": {},
   "outputs": [
    {
     "data": {
      "text/plain": [
       "101"
      ]
     },
     "execution_count": 9,
     "metadata": {},
     "output_type": "execute_result"
    }
   ],
   "source": [
    "len(ROC)"
   ]
  },
  {
   "cell_type": "code",
   "execution_count": null,
   "metadata": {},
   "outputs": [],
   "source": []
  }
 ],
 "metadata": {
  "kernelspec": {
   "display_name": "Python 2",
   "language": "python",
   "name": "python2"
  },
  "language_info": {
   "codemirror_mode": {
    "name": "ipython",
    "version": 2
   },
   "file_extension": ".py",
   "mimetype": "text/x-python",
   "name": "python",
   "nbconvert_exporter": "python",
   "pygments_lexer": "ipython2",
   "version": "2.7.5"
  }
 },
 "nbformat": 4,
 "nbformat_minor": 2
}
